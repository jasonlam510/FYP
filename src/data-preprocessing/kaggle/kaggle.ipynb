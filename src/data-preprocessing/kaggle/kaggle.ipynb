{
 "cells": [
  {
   "cell_type": "markdown",
   "id": "b93083b0",
   "metadata": {},
   "source": [
    "# Intro\n",
    "This Jupyter Notebook is used to preprocess the [Kaggle’s BBC News RSS Dataset](https://www.kaggle.com/datasets/gpreda/bbc-news/data) before training a model."
   ]
  },
  {
   "cell_type": "code",
   "execution_count": null,
   "id": "4e802884",
   "metadata": {},
   "outputs": [],
   "source": [
    "import sys\n",
    "\n",
    "# setting path\n",
    "sys.path.append('../../..') # src folder\n",
    "\n",
    "file_path = '../../../data/raw/kaggle/bbc_news.csv'\n",
    "save_path = '../../../data/processed/kaggle/sentiment_inserted.csv'\n"
   ]
  },
  {
   "cell_type": "markdown",
   "id": "84fd7113",
   "metadata": {
    "vscode": {
     "languageId": "plaintext"
    }
   },
   "source": [
    "# Understand the data"
   ]
  },
  {
   "cell_type": "code",
   "execution_count": null,
   "id": "23dc83fd",
   "metadata": {},
   "outputs": [
    {
     "name": "stdout",
     "output_type": "stream",
     "text": [
      "Number of rows: 42115\n"
     ]
    },
    {
     "data": {
      "application/vnd.microsoft.datawrangler.viewer.v0+json": {
       "columns": [
        {
         "name": "index",
         "rawType": "int64",
         "type": "integer"
        },
        {
         "name": "title",
         "rawType": "object",
         "type": "string"
        },
        {
         "name": "pubDate",
         "rawType": "object",
         "type": "string"
        },
        {
         "name": "guid",
         "rawType": "object",
         "type": "string"
        },
        {
         "name": "link",
         "rawType": "object",
         "type": "string"
        },
        {
         "name": "description",
         "rawType": "object",
         "type": "string"
        }
       ],
       "conversionMethod": "pd.DataFrame",
       "ref": "a3a890cd-3c43-44ad-a79b-97daa9d6fc08",
       "rows": [
        [
         "0",
         "Ukraine: Angry Zelensky vows to punish Russian atrocities",
         "Mon, 07 Mar 2022 08:01:56 GMT",
         "https://www.bbc.co.uk/news/world-europe-60638042",
         "https://www.bbc.co.uk/news/world-europe-60638042?at_medium=RSS&at_campaign=KARANGA",
         "The Ukrainian president says the country will not forgive or forget those who murder its civilians."
        ],
        [
         "1",
         "War in Ukraine: Taking cover in a town under attack",
         "Sun, 06 Mar 2022 22:49:58 GMT",
         "https://www.bbc.co.uk/news/world-europe-60641873",
         "https://www.bbc.co.uk/news/world-europe-60641873?at_medium=RSS&at_campaign=KARANGA",
         "Jeremy Bowen was on the frontline in Irpin, as residents came under Russian fire while trying to flee."
        ],
        [
         "2",
         "Ukraine war 'catastrophic for global food'",
         "Mon, 07 Mar 2022 00:14:42 GMT",
         "https://www.bbc.co.uk/news/business-60623941",
         "https://www.bbc.co.uk/news/business-60623941?at_medium=RSS&at_campaign=KARANGA",
         "One of the world's biggest fertiliser firms says the conflict could deliver a shock to food supplies."
        ],
        [
         "3",
         "Manchester Arena bombing: Saffie Roussos's parents on hearing the truth",
         "Mon, 07 Mar 2022 00:05:40 GMT",
         "https://www.bbc.co.uk/news/uk-60579079",
         "https://www.bbc.co.uk/news/uk-60579079?at_medium=RSS&at_campaign=KARANGA",
         "The parents of the Manchester Arena bombing's youngest victim speak about their life since she died."
        ],
        [
         "4",
         "Ukraine conflict: Oil price soars to highest level since 2008",
         "Mon, 07 Mar 2022 08:15:53 GMT",
         "https://www.bbc.co.uk/news/business-60642786",
         "https://www.bbc.co.uk/news/business-60642786?at_medium=RSS&at_campaign=KARANGA",
         "Consumers are feeling the impact of higher energy costs as fuel prices and household bills jump."
        ]
       ],
       "shape": {
        "columns": 5,
        "rows": 5
       }
      },
      "text/html": [
       "<div>\n",
       "<style scoped>\n",
       "    .dataframe tbody tr th:only-of-type {\n",
       "        vertical-align: middle;\n",
       "    }\n",
       "\n",
       "    .dataframe tbody tr th {\n",
       "        vertical-align: top;\n",
       "    }\n",
       "\n",
       "    .dataframe thead th {\n",
       "        text-align: right;\n",
       "    }\n",
       "</style>\n",
       "<table border=\"1\" class=\"dataframe\">\n",
       "  <thead>\n",
       "    <tr style=\"text-align: right;\">\n",
       "      <th></th>\n",
       "      <th>title</th>\n",
       "      <th>pubDate</th>\n",
       "      <th>guid</th>\n",
       "      <th>link</th>\n",
       "      <th>description</th>\n",
       "    </tr>\n",
       "  </thead>\n",
       "  <tbody>\n",
       "    <tr>\n",
       "      <th>0</th>\n",
       "      <td>Ukraine: Angry Zelensky vows to punish Russian...</td>\n",
       "      <td>Mon, 07 Mar 2022 08:01:56 GMT</td>\n",
       "      <td>https://www.bbc.co.uk/news/world-europe-60638042</td>\n",
       "      <td>https://www.bbc.co.uk/news/world-europe-606380...</td>\n",
       "      <td>The Ukrainian president says the country will ...</td>\n",
       "    </tr>\n",
       "    <tr>\n",
       "      <th>1</th>\n",
       "      <td>War in Ukraine: Taking cover in a town under a...</td>\n",
       "      <td>Sun, 06 Mar 2022 22:49:58 GMT</td>\n",
       "      <td>https://www.bbc.co.uk/news/world-europe-60641873</td>\n",
       "      <td>https://www.bbc.co.uk/news/world-europe-606418...</td>\n",
       "      <td>Jeremy Bowen was on the frontline in Irpin, as...</td>\n",
       "    </tr>\n",
       "    <tr>\n",
       "      <th>2</th>\n",
       "      <td>Ukraine war 'catastrophic for global food'</td>\n",
       "      <td>Mon, 07 Mar 2022 00:14:42 GMT</td>\n",
       "      <td>https://www.bbc.co.uk/news/business-60623941</td>\n",
       "      <td>https://www.bbc.co.uk/news/business-60623941?a...</td>\n",
       "      <td>One of the world's biggest fertiliser firms sa...</td>\n",
       "    </tr>\n",
       "    <tr>\n",
       "      <th>3</th>\n",
       "      <td>Manchester Arena bombing: Saffie Roussos's par...</td>\n",
       "      <td>Mon, 07 Mar 2022 00:05:40 GMT</td>\n",
       "      <td>https://www.bbc.co.uk/news/uk-60579079</td>\n",
       "      <td>https://www.bbc.co.uk/news/uk-60579079?at_medi...</td>\n",
       "      <td>The parents of the Manchester Arena bombing's ...</td>\n",
       "    </tr>\n",
       "    <tr>\n",
       "      <th>4</th>\n",
       "      <td>Ukraine conflict: Oil price soars to highest l...</td>\n",
       "      <td>Mon, 07 Mar 2022 08:15:53 GMT</td>\n",
       "      <td>https://www.bbc.co.uk/news/business-60642786</td>\n",
       "      <td>https://www.bbc.co.uk/news/business-60642786?a...</td>\n",
       "      <td>Consumers are feeling the impact of higher ene...</td>\n",
       "    </tr>\n",
       "  </tbody>\n",
       "</table>\n",
       "</div>"
      ],
      "text/plain": [
       "                                               title  \\\n",
       "0  Ukraine: Angry Zelensky vows to punish Russian...   \n",
       "1  War in Ukraine: Taking cover in a town under a...   \n",
       "2         Ukraine war 'catastrophic for global food'   \n",
       "3  Manchester Arena bombing: Saffie Roussos's par...   \n",
       "4  Ukraine conflict: Oil price soars to highest l...   \n",
       "\n",
       "                         pubDate  \\\n",
       "0  Mon, 07 Mar 2022 08:01:56 GMT   \n",
       "1  Sun, 06 Mar 2022 22:49:58 GMT   \n",
       "2  Mon, 07 Mar 2022 00:14:42 GMT   \n",
       "3  Mon, 07 Mar 2022 00:05:40 GMT   \n",
       "4  Mon, 07 Mar 2022 08:15:53 GMT   \n",
       "\n",
       "                                               guid  \\\n",
       "0  https://www.bbc.co.uk/news/world-europe-60638042   \n",
       "1  https://www.bbc.co.uk/news/world-europe-60641873   \n",
       "2      https://www.bbc.co.uk/news/business-60623941   \n",
       "3            https://www.bbc.co.uk/news/uk-60579079   \n",
       "4      https://www.bbc.co.uk/news/business-60642786   \n",
       "\n",
       "                                                link  \\\n",
       "0  https://www.bbc.co.uk/news/world-europe-606380...   \n",
       "1  https://www.bbc.co.uk/news/world-europe-606418...   \n",
       "2  https://www.bbc.co.uk/news/business-60623941?a...   \n",
       "3  https://www.bbc.co.uk/news/uk-60579079?at_medi...   \n",
       "4  https://www.bbc.co.uk/news/business-60642786?a...   \n",
       "\n",
       "                                         description  \n",
       "0  The Ukrainian president says the country will ...  \n",
       "1  Jeremy Bowen was on the frontline in Irpin, as...  \n",
       "2  One of the world's biggest fertiliser firms sa...  \n",
       "3  The parents of the Manchester Arena bombing's ...  \n",
       "4  Consumers are feeling the impact of higher ene...  "
      ]
     },
     "execution_count": 14,
     "metadata": {},
     "output_type": "execute_result"
    }
   ],
   "source": [
    "import pandas as pd\n",
    "\n",
    "# Load the dataset into pandas\n",
    "bbc_news_df = pd.read_csv(file_path)\n",
    "\n",
    "# Print the number of rows and columns in the dataset\n",
    "print(f\"Number of rows: {bbc_news_df.shape[0]}\")\n",
    "\n",
    "# Display the first few rows of the dataset to understand its structure\n",
    "bbc_news_df.head()\n"
   ]
  },
  {
   "cell_type": "markdown",
   "id": "ac3ab863",
   "metadata": {},
   "source": [
    "## To analyze the distribution by date"
   ]
  },
  {
   "cell_type": "code",
   "execution_count": 15,
   "id": "3b470211",
   "metadata": {},
   "outputs": [
    {
     "data": {
      "image/png": "[encoded data removed]",
      "text/plain": [
       "<Figure size 1000x600 with 1 Axes>"
      ]
     },
     "metadata": {},
     "output_type": "display_data"
    }
   ],
   "source": [
    "from src.utils.plot_df import plot_distribution_by_year, plot_description_length_distribution\n",
    "\n",
    "plot_distribution_by_year(bbc_news_df, 'pubDate')"
   ]
  },
  {
   "cell_type": "markdown",
   "id": "e9f23aa7",
   "metadata": {},
   "source": [
    "## The length of the description\n",
    "\n",
    "Since FinBert’s maximum input sequence length is 512 tokens, we need to verify that each description does not exceed this limit to ensure our data can be processed by FinBert."
   ]
  },
  {
   "cell_type": "code",
   "execution_count": 16,
   "id": "4d12f65b",
   "metadata": {},
   "outputs": [
    {
     "data": {
      "image/png": "[encoded data removed]",
      "text/plain": [
       "<Figure size 1000x600 with 1 Axes>"
      ]
     },
     "metadata": {},
     "output_type": "display_data"
    }
   ],
   "source": [
    "plot_description_length_distribution(bbc_news_df, 'description')"
   ]
  },
  {
   "cell_type": "markdown",
   "id": "8c2fc701",
   "metadata": {},
   "source": [
    "# Data cleaning"
   ]
  },
  {
   "cell_type": "markdown",
   "id": "08d038bf",
   "metadata": {},
   "source": [
    "## Ensuring data format consistency\n",
    "Ensuring data format consistency is a crucial step in any machine learning project, especially when working with text data and time-based events."
   ]
  },
  {
   "cell_type": "code",
   "execution_count": 17,
   "id": "0ef741e4",
   "metadata": {},
   "outputs": [
    {
     "data": {
      "image/png": "[encoded data removed]",
      "text/plain": [
       "<Figure size 1000x600 with 1 Axes>"
      ]
     },
     "metadata": {},
     "output_type": "display_data"
    },
    {
     "data": {
      "application/vnd.microsoft.datawrangler.viewer.v0+json": {
       "columns": [
        {
         "name": "index",
         "rawType": "int64",
         "type": "integer"
        },
        {
         "name": "title",
         "rawType": "object",
         "type": "string"
        },
        {
         "name": "pubDate",
         "rawType": "datetime64[ns, UTC]",
         "type": "unknown"
        },
        {
         "name": "guid",
         "rawType": "object",
         "type": "string"
        },
        {
         "name": "link",
         "rawType": "object",
         "type": "string"
        },
        {
         "name": "description",
         "rawType": "object",
         "type": "string"
        }
       ],
       "conversionMethod": "pd.DataFrame",
       "ref": "3e9668ef-5627-4b26-b32f-9c0cf3295ac7",
       "rows": [
        [
         "0",
         "Ukraine: Angry Zelensky vows to punish Russian atrocities",
         "2022-03-07 08:01:56+00:00",
         "https://www.bbc.co.uk/news/world-europe-60638042",
         "https://www.bbc.co.uk/news/world-europe-60638042?at_medium=RSS&at_campaign=KARANGA",
         "The Ukrainian president says the country will not forgive or forget those who murder its civilians."
        ],
        [
         "1",
         "War in Ukraine: Taking cover in a town under attack",
         "2022-03-06 22:49:58+00:00",
         "https://www.bbc.co.uk/news/world-europe-60641873",
         "https://www.bbc.co.uk/news/world-europe-60641873?at_medium=RSS&at_campaign=KARANGA",
         "Jeremy Bowen was on the frontline in Irpin, as residents came under Russian fire while trying to flee."
        ],
        [
         "2",
         "Ukraine war 'catastrophic for global food'",
         "2022-03-07 00:14:42+00:00",
         "https://www.bbc.co.uk/news/business-60623941",
         "https://www.bbc.co.uk/news/business-60623941?at_medium=RSS&at_campaign=KARANGA",
         "One of the world's biggest fertiliser firms says the conflict could deliver a shock to food supplies."
        ],
        [
         "3",
         "Manchester Arena bombing: Saffie Roussos's parents on hearing the truth",
         "2022-03-07 00:05:40+00:00",
         "https://www.bbc.co.uk/news/uk-60579079",
         "https://www.bbc.co.uk/news/uk-60579079?at_medium=RSS&at_campaign=KARANGA",
         "The parents of the Manchester Arena bombing's youngest victim speak about their life since she died."
        ],
        [
         "4",
         "Ukraine conflict: Oil price soars to highest level since 2008",
         "2022-03-07 08:15:53+00:00",
         "https://www.bbc.co.uk/news/business-60642786",
         "https://www.bbc.co.uk/news/business-60642786?at_medium=RSS&at_campaign=KARANGA",
         "Consumers are feeling the impact of higher energy costs as fuel prices and household bills jump."
        ]
       ],
       "shape": {
        "columns": 5,
        "rows": 5
       }
      },
      "text/html": [
       "<div>\n",
       "<style scoped>\n",
       "    .dataframe tbody tr th:only-of-type {\n",
       "        vertical-align: middle;\n",
       "    }\n",
       "\n",
       "    .dataframe tbody tr th {\n",
       "        vertical-align: top;\n",
       "    }\n",
       "\n",
       "    .dataframe thead th {\n",
       "        text-align: right;\n",
       "    }\n",
       "</style>\n",
       "<table border=\"1\" class=\"dataframe\">\n",
       "  <thead>\n",
       "    <tr style=\"text-align: right;\">\n",
       "      <th></th>\n",
       "      <th>title</th>\n",
       "      <th>pubDate</th>\n",
       "      <th>guid</th>\n",
       "      <th>link</th>\n",
       "      <th>description</th>\n",
       "    </tr>\n",
       "  </thead>\n",
       "  <tbody>\n",
       "    <tr>\n",
       "      <th>0</th>\n",
       "      <td>Ukraine: Angry Zelensky vows to punish Russian...</td>\n",
       "      <td>2022-03-07 08:01:56+00:00</td>\n",
       "      <td>https://www.bbc.co.uk/news/world-europe-60638042</td>\n",
       "      <td>https://www.bbc.co.uk/news/world-europe-606380...</td>\n",
       "      <td>The Ukrainian president says the country will ...</td>\n",
       "    </tr>\n",
       "    <tr>\n",
       "      <th>1</th>\n",
       "      <td>War in Ukraine: Taking cover in a town under a...</td>\n",
       "      <td>2022-03-06 22:49:58+00:00</td>\n",
       "      <td>https://www.bbc.co.uk/news/world-europe-60641873</td>\n",
       "      <td>https://www.bbc.co.uk/news/world-europe-606418...</td>\n",
       "      <td>Jeremy Bowen was on the frontline in Irpin, as...</td>\n",
       "    </tr>\n",
       "    <tr>\n",
       "      <th>2</th>\n",
       "      <td>Ukraine war 'catastrophic for global food'</td>\n",
       "      <td>2022-03-07 00:14:42+00:00</td>\n",
       "      <td>https://www.bbc.co.uk/news/business-60623941</td>\n",
       "      <td>https://www.bbc.co.uk/news/business-60623941?a...</td>\n",
       "      <td>One of the world's biggest fertiliser firms sa...</td>\n",
       "    </tr>\n",
       "    <tr>\n",
       "      <th>3</th>\n",
       "      <td>Manchester Arena bombing: Saffie Roussos's par...</td>\n",
       "      <td>2022-03-07 00:05:40+00:00</td>\n",
       "      <td>https://www.bbc.co.uk/news/uk-60579079</td>\n",
       "      <td>https://www.bbc.co.uk/news/uk-60579079?at_medi...</td>\n",
       "      <td>The parents of the Manchester Arena bombing's ...</td>\n",
       "    </tr>\n",
       "    <tr>\n",
       "      <th>4</th>\n",
       "      <td>Ukraine conflict: Oil price soars to highest l...</td>\n",
       "      <td>2022-03-07 08:15:53+00:00</td>\n",
       "      <td>https://www.bbc.co.uk/news/business-60642786</td>\n",
       "      <td>https://www.bbc.co.uk/news/business-60642786?a...</td>\n",
       "      <td>Consumers are feeling the impact of higher ene...</td>\n",
       "    </tr>\n",
       "  </tbody>\n",
       "</table>\n",
       "</div>"
      ],
      "text/plain": [
       "                                               title  \\\n",
       "0  Ukraine: Angry Zelensky vows to punish Russian...   \n",
       "1  War in Ukraine: Taking cover in a town under a...   \n",
       "2         Ukraine war 'catastrophic for global food'   \n",
       "3  Manchester Arena bombing: Saffie Roussos's par...   \n",
       "4  Ukraine conflict: Oil price soars to highest l...   \n",
       "\n",
       "                    pubDate                                              guid  \\\n",
       "0 2022-03-07 08:01:56+00:00  https://www.bbc.co.uk/news/world-europe-60638042   \n",
       "1 2022-03-06 22:49:58+00:00  https://www.bbc.co.uk/news/world-europe-60641873   \n",
       "2 2022-03-07 00:14:42+00:00      https://www.bbc.co.uk/news/business-60623941   \n",
       "3 2022-03-07 00:05:40+00:00            https://www.bbc.co.uk/news/uk-60579079   \n",
       "4 2022-03-07 08:15:53+00:00      https://www.bbc.co.uk/news/business-60642786   \n",
       "\n",
       "                                                link  \\\n",
       "0  https://www.bbc.co.uk/news/world-europe-606380...   \n",
       "1  https://www.bbc.co.uk/news/world-europe-606418...   \n",
       "2  https://www.bbc.co.uk/news/business-60623941?a...   \n",
       "3  https://www.bbc.co.uk/news/uk-60579079?at_medi...   \n",
       "4  https://www.bbc.co.uk/news/business-60642786?a...   \n",
       "\n",
       "                                         description  \n",
       "0  The Ukrainian president says the country will ...  \n",
       "1  Jeremy Bowen was on the frontline in Irpin, as...  \n",
       "2  One of the world's biggest fertiliser firms sa...  \n",
       "3  The parents of the Manchester Arena bombing's ...  \n",
       "4  Consumers are feeling the impact of higher ene...  "
      ]
     },
     "execution_count": 17,
     "metadata": {},
     "output_type": "execute_result"
    }
   ],
   "source": [
    "from src.utils.data_format import clean_text_column, convert_datetime_column\n",
    "\n",
    "# # Text columns\n",
    "# bbc_news_df = clean_text_column(bbc_news_df, 'title')\n",
    "# bbc_news_df = clean_text_column(bbc_news_df, 'description')\n",
    "\n",
    "# Datetime column\n",
    "bbc_news_df = convert_datetime_column(bbc_news_df, 'pubDate')\n",
    "\n",
    "# Check the distribution of the cleaned text columns\n",
    "plot_description_length_distribution(bbc_news_df, 'description')\n",
    "\n",
    "# Check the cleaned data\n",
    "bbc_news_df.head()"
   ]
  },
  {
   "cell_type": "markdown",
   "id": "8b780e65",
   "metadata": {},
   "source": [
    "## Remove the Outlier Data\n",
    "Since we found that a small number of data points fall outside the march 2022-2024 range, and for the sake of time relevance and consistency within the dataset, we have decided to remove these entries."
   ]
  },
  {
   "cell_type": "code",
   "execution_count": 18,
   "id": "cb81eebd",
   "metadata": {},
   "outputs": [
    {
     "name": "stdout",
     "output_type": "stream",
     "text": [
      "Number of rows in the filtered dataset: 42095\n"
     ]
    }
   ],
   "source": [
    "# Filter the dataset to keep data between March 2022 and December 2024\n",
    "start_date = '2022-03-01'\n",
    "end_date = '2024-12-31'\n",
    "\n",
    "# Filter the rows based on the specified date range\n",
    "filtered_df = bbc_news_df[(bbc_news_df['pubDate'] >= start_date) & (bbc_news_df['pubDate'] <= end_date)]\n",
    "\n",
    "# Print the number of rows in the filtered dataset\n",
    "print(f\"Number of rows in the filtered dataset: {len(filtered_df)}\")"
   ]
  },
  {
   "cell_type": "markdown",
   "id": "44cf21f1",
   "metadata": {},
   "source": [
    "## Filter the dataset to keep only the 'news' category"
   ]
  },
  {
   "cell_type": "code",
   "execution_count": 19,
   "id": "7f828cf5",
   "metadata": {},
   "outputs": [],
   "source": [
    "import re\n",
    "\n",
    "def extract_category(df: pd.DataFrame, column_name: str) -> pd.DataFrame:\n",
    "    \"\"\"\n",
    "    Extracts categories from the specified column that contains URLs and adds them as a new column.\n",
    "\n",
    "    Args:\n",
    "    - df (pd.DataFrame): The pandas dataframe containing the column.\n",
    "    - column_name (str): The name of the column containing the URLs (guid).\n",
    "\n",
    "    Returns:\n",
    "    - pd.DataFrame: The original dataframe with a new column 'category' containing the extracted categories.\n",
    "    \"\"\"\n",
    "    # Function to extract category from a URL\n",
    "    def get_category(guid: str) -> str:\n",
    "        match = re.search(r'https?://[^/]+/([^/]+)/', guid)\n",
    "        if match:\n",
    "            return match.group(1)\n",
    "        print(f\"Warning: No match found for guid: {guid}\")\n",
    "        return None\n",
    "        \n",
    "    # Apply the function to the column and create a new 'category' column\n",
    "    df['category'] = df[column_name].apply(get_category)\n",
    "    \n",
    "    return df"
   ]
  },
  {
   "cell_type": "code",
   "execution_count": 20,
   "id": "445ae628",
   "metadata": {},
   "outputs": [
    {
     "name": "stdout",
     "output_type": "stream",
     "text": [
      "Warning: No match found for guid: https://www.bbc.co.ukundefined/#3\n",
      "Number of unique categories: 11\n",
      "Count by category:\n",
      "news: 33077\n",
      "sport: 8395\n",
      "sounds: 406\n",
      "iplayer: 127\n",
      "weather: 77\n",
      "food: 12\n",
      "articles: 8\n",
      "newsround: 6\n",
      "digihub: 3\n",
      "programmes: 2\n",
      "mediacentre: 1\n"
     ]
    }
   ],
   "source": [
    "# Assuming the dataframe is already loaded and named `bbc_news_df`\n",
    "bbc_news_df = extract_category(bbc_news_df, 'guid')\n",
    "\n",
    "# Count unique categories\n",
    "unique_categories = bbc_news_df['category'].nunique()\n",
    "\n",
    "# Display the unique categories and their count\n",
    "print(f\"Number of unique categories: {unique_categories}\")\n",
    "counts = bbc_news_df['category'].value_counts()\n",
    "print(\"Count by category:\")\n",
    "for cat, cnt in counts.items():\n",
    "    print(f\"{cat}: {cnt}\")"
   ]
  },
  {
   "cell_type": "markdown",
   "id": "61476dda",
   "metadata": {},
   "source": [
    "## Remove duplicated rows"
   ]
  },
  {
   "cell_type": "code",
   "execution_count": 21,
   "id": "5587d2b1",
   "metadata": {},
   "outputs": [
    {
     "data": {
      "application/vnd.microsoft.datawrangler.viewer.v0+json": {
       "columns": [
        {
         "name": "index",
         "rawType": "int64",
         "type": "integer"
        },
        {
         "name": "title",
         "rawType": "object",
         "type": "string"
        },
        {
         "name": "pubDate",
         "rawType": "datetime64[ns, UTC]",
         "type": "unknown"
        },
        {
         "name": "guid",
         "rawType": "object",
         "type": "string"
        },
        {
         "name": "link",
         "rawType": "object",
         "type": "string"
        },
        {
         "name": "description",
         "rawType": "object",
         "type": "string"
        },
        {
         "name": "category",
         "rawType": "object",
         "type": "string"
        }
       ],
       "conversionMethod": "pd.DataFrame",
       "ref": "3e4c8cf7-7573-41c5-acb9-f2dbda805ae8",
       "rows": [
        [
         "4",
         "Ukraine conflict: Oil price soars to highest level since 2008",
         "2022-03-07 08:15:53+00:00",
         "https://www.bbc.co.uk/news/business-60642786",
         "https://www.bbc.co.uk/news/business-60642786?at_medium=RSS&at_campaign=KARANGA",
         "Consumers are feeling the impact of higher energy costs as fuel prices and household bills jump.",
         "news"
        ],
        [
         "5",
         "Ukraine war: PM to hold talks with world leaders on further sanctions",
         "2022-03-07 08:33:29+00:00",
         "https://www.bbc.co.uk/news/uk-60642926",
         "https://www.bbc.co.uk/news/uk-60642926?at_medium=RSS&at_campaign=KARANGA",
         "Boris Johnson is to meet the Canadian and Dutch PMs, as MPs debate new laws targeting oligarchs.",
         "news"
        ],
        [
         "18",
         "Five ways the Ukraine war could push up prices",
         "2022-03-04 22:09:49+00:00",
         "https://www.bbc.co.uk/news/business-60509453",
         "https://www.bbc.co.uk/news/business-60509453?at_medium=RSS&at_campaign=KARANGA",
         "Prices for everyday items could go up at a time when the cost of living is already rising.",
         "news"
        ],
        [
         "44",
         "Covid-19 in the UK: How many coronavirus cases are there in my area?",
         "2022-03-04 17:34:34+00:00",
         "https://www.bbc.co.uk/news/uk-51768274",
         "https://www.bbc.co.uk/news/uk-51768274?at_medium=RSS&at_campaign=KARANGA",
         "Explore the data on coronavirus in the UK and find out how many cases there are in your area.",
         "news"
        ],
        [
         "49",
         "Covid: How to look after yourself at home",
         "2022-01-18 12:46:56+00:00",
         "https://www.bbc.co.uk/news/health-59683083",
         "https://www.bbc.co.uk/news/health-59683083?at_medium=RSS&at_campaign=KARANGA",
         "What can you expect if you have Covid, and when should you get extra help?",
         "news"
        ],
        [
         "55",
         "Ukraine conflict: Oil price soars to highest level since 2008",
         "2022-03-07 09:00:31+00:00",
         "https://www.bbc.co.uk/news/business-60642786",
         "https://www.bbc.co.uk/news/business-60642786?at_medium=RSS&at_campaign=KARANGA",
         "Consumers are feeling the impact of higher energy costs as fuel prices and household bills jump.",
         "news"
        ],
        [
         "56",
         "One dead after Scottish trawler capsizes off Norway",
         "2022-03-07 08:59:37+00:00",
         "https://www.bbc.co.uk/news/uk-scotland-60645898",
         "https://www.bbc.co.uk/news/uk-scotland-60645898?at_medium=RSS&at_campaign=KARANGA",
         "Seven crew members were rescued after the Peterhead-registered Njord got into difficulty in the North Sea.",
         "news"
        ],
        [
         "57",
         "Ukraine: Irish medical student 'blocking out dangers' in Sumy",
         "2022-03-07 06:59:12+00:00",
         "https://www.bbc.co.uk/news/world-europe-60638895",
         "https://www.bbc.co.uk/news/world-europe-60638895?at_medium=RSS&at_campaign=KARANGA",
         "A 19-year-old Irish woman is among hundreds of international students taking cover in Sumy.",
         "news"
        ],
        [
         "59",
         "One dead after Scottish trawler capsizes off Norway",
         "2022-03-07 09:26:29+00:00",
         "https://www.bbc.co.uk/news/uk-scotland-60645898",
         "https://www.bbc.co.uk/news/uk-scotland-60645898?at_medium=RSS&at_campaign=KARANGA",
         "Three crew members were airlifted to hospital after the Peterhead-registered Njord got into difficulty.",
         "news"
        ],
        [
         "62",
         "Ukraine war: PM to hold talks with world leaders on further sanctions",
         "2022-03-07 09:56:04+00:00",
         "https://www.bbc.co.uk/news/uk-60642926",
         "https://www.bbc.co.uk/news/uk-60642926?at_medium=RSS&at_campaign=KARANGA",
         "Boris Johnson is to meet the Canadian and Dutch PMs, as the UK's refugee policy comes under scrutiny.",
         "news"
        ],
        [
         "63",
         "One dead after Scottish trawler capsizes off Norway",
         "2022-03-07 09:50:30+00:00",
         "https://www.bbc.co.uk/news/uk-scotland-60645898",
         "https://www.bbc.co.uk/news/uk-scotland-60645898?at_medium=RSS&at_campaign=KARANGA",
         "Three crew members were airlifted to hospital after the Peterhead-registered Njord got into difficulty.",
         "news"
        ],
        [
         "64",
         "Shane Warne: Australian cricket legend died from natural causes - police",
         "2022-03-07 09:57:00+00:00",
         "https://www.bbc.co.uk/news/world-asia-60645939",
         "https://www.bbc.co.uk/news/world-asia-60645939?at_medium=RSS&at_campaign=KARANGA",
         "Thai police say there's no sign of foul play in the cricketer's death while on holiday on Koh Samui.",
         "news"
        ],
        [
         "66",
         "Ukraine war: PM to hold talks with world leaders on further sanctions",
         "2022-03-07 11:45:52+00:00",
         "https://www.bbc.co.uk/news/uk-60642926",
         "https://www.bbc.co.uk/news/uk-60642926?at_medium=RSS&at_campaign=KARANGA",
         "Boris Johnson is to meet the Canadian and Dutch PMs, as the UK's refugee policy comes under scrutiny.",
         "news"
        ],
        [
         "67",
         "One dead after Scottish trawler capsizes off Norway",
         "2022-03-07 11:47:58+00:00",
         "https://www.bbc.co.uk/news/uk-scotland-60645898",
         "https://www.bbc.co.uk/news/uk-scotland-60645898?at_medium=RSS&at_campaign=KARANGA",
         "He was one of three crew members airlifted to hospital after they were found on the keel of the boat.",
         "news"
        ],
        [
         "68",
         "Shane Warne: Australian cricket legend died from natural causes - police",
         "2022-03-07 11:26:47+00:00",
         "https://www.bbc.co.uk/news/world-asia-60645939",
         "https://www.bbc.co.uk/news/world-asia-60645939?at_medium=RSS&at_campaign=KARANGA",
         "Thai police say there's no sign of foul play in the cricketer's death while on holiday on Koh Samui.",
         "news"
        ],
        [
         "70",
         "How many refugees have fled Ukraine and where are they going?",
         "2022-03-07 10:04:55+00:00",
         "https://www.bbc.co.uk/news/world-60555472",
         "https://www.bbc.co.uk/news/world-60555472?at_medium=RSS&at_campaign=KARANGA",
         "The EU says up to four million people may try to escape the war in Ukraine.",
         "news"
        ],
        [
         "71",
         "Ukraine: Irish medical student 'blocking out dangers' in Sumy",
         "2022-03-07 10:30:54+00:00",
         "https://www.bbc.co.uk/news/world-europe-60638895",
         "https://www.bbc.co.uk/news/world-europe-60638895?at_medium=RSS&at_campaign=KARANGA",
         "A 19-year-old Irish woman living in Sumy is making an attempt to leave the city amid Russian attacks.",
         "news"
        ],
        [
         "73",
         "Blue and yellow flowers as Queen meets Trudeau",
         "2022-03-07 16:01:05+00:00",
         "https://www.bbc.co.uk/news/uk-60650285",
         "https://www.bbc.co.uk/news/uk-60650285?at_medium=RSS&at_campaign=KARANGA",
         "The Queen returns to in-person meetings with what appears to be a subtle show of support for Ukraine.",
         "news"
        ],
        [
         "74",
         "Ukraine conflict: Petrol at fresh record as oil and gas prices soar",
         "2022-03-07 15:47:46+00:00",
         "https://www.bbc.co.uk/news/business-60642786",
         "https://www.bbc.co.uk/news/business-60642786?at_medium=RSS&at_campaign=KARANGA",
         "Investors fear a global economic shock, with rising fuel bills causing more pain for households.",
         "news"
        ],
        [
         "76",
         "Ed Sheeran denies Shape of You copyright claim at High Court trial",
         "2022-03-07 13:41:32+00:00",
         "https://www.bbc.co.uk/news/entertainment-arts-60648263",
         "https://www.bbc.co.uk/news/entertainment-arts-60648263?at_medium=RSS&at_campaign=KARANGA",
         "The pop singer is accused by two songwriters of copying parts of his 2017 hit Shape Of You.",
         "news"
        ],
        [
         "77",
         "Dizzee Rascal: Grime artist guilty of assaulting former partner",
         "2022-03-07 16:18:45+00:00",
         "https://www.bbc.co.uk/news/uk-england-london-60653545",
         "https://www.bbc.co.uk/news/uk-england-london-60653545?at_medium=RSS&at_campaign=KARANGA",
         "The grime artist was found guilty of assaulting his former partner in London last year.",
         "news"
        ],
        [
         "85",
         "How many refugees have fled Ukraine and where are they going?",
         "2022-03-07 15:04:02+00:00",
         "https://www.bbc.co.uk/news/world-60555472",
         "https://www.bbc.co.uk/news/world-60555472?at_medium=RSS&at_campaign=KARANGA",
         "The UN says four million people may try to escape the war in Ukraine.",
         "news"
        ],
        [
         "86",
         "Five ways the Ukraine war could push up prices",
         "2022-03-07 12:22:42+00:00",
         "https://www.bbc.co.uk/news/business-60509453",
         "https://www.bbc.co.uk/news/business-60509453?at_medium=RSS&at_campaign=KARANGA",
         "Prices for everyday items could go up at a time when the cost of living is already rising.",
         "news"
        ],
        [
         "87",
         "Ukraine: Irish student makes fresh escape attempt",
         "2022-03-07 15:44:10+00:00",
         "https://www.bbc.co.uk/news/world-europe-60638895",
         "https://www.bbc.co.uk/news/world-europe-60638895?at_medium=RSS&at_campaign=KARANGA",
         "A 19-year-old Irish woman living in Sumy is trying to leave the country amid Russian attacks.",
         "news"
        ],
        [
         "91",
         "Ukraine: Volodymyr Zelensky to address UK MPs in Commons",
         "2022-03-07 21:23:25+00:00",
         "https://www.bbc.co.uk/news/uk-politics-60655003",
         "https://www.bbc.co.uk/news/uk-politics-60655003?at_medium=RSS&at_campaign=KARANGA",
         "The Ukrainian president will speak via video link to British politicians on Tuesday.",
         "news"
        ],
        [
         "92",
         "Blue and yellow flowers as Queen meets Trudeau",
         "2022-03-07 17:36:58+00:00",
         "https://www.bbc.co.uk/news/uk-60650285",
         "https://www.bbc.co.uk/news/uk-60650285?at_medium=RSS&at_campaign=KARANGA",
         "The Queen returns to in-person meetings with what appears to be a subtle show of support for Ukraine.",
         "news"
        ],
        [
         "93",
         "Ukraine conflict: Petrol at fresh record as oil and gas prices soar",
         "2022-03-07 16:48:24+00:00",
         "https://www.bbc.co.uk/news/business-60642786",
         "https://www.bbc.co.uk/news/business-60642786?at_medium=RSS&at_campaign=KARANGA",
         "Investors fear a global economic shock, with rising fuel bills causing more pain for households.",
         "news"
        ],
        [
         "96",
         "Dizzee Rascal: Grime artist guilty of assaulting former partner",
         "2022-03-07 20:59:22+00:00",
         "https://www.bbc.co.uk/news/uk-england-london-60653545",
         "https://www.bbc.co.uk/news/uk-england-london-60653545?at_medium=RSS&at_campaign=KARANGA",
         "The grime artist was found guilty of assaulting his former partner in London last year.",
         "news"
        ],
        [
         "97",
         "Ed Sheeran denies Shape of You copyright claim at High Court trial",
         "2022-03-07 17:14:20+00:00",
         "https://www.bbc.co.uk/news/entertainment-arts-60648263",
         "https://www.bbc.co.uk/news/entertainment-arts-60648263?at_medium=RSS&at_campaign=KARANGA",
         "The pop singer is accused by two songwriters of copying parts of his 2017 hit Shape Of You.",
         "news"
        ],
        [
         "98",
         "McDonald's and Coca-Cola boycott calls grow over Russia",
         "2022-03-07 17:55:35+00:00",
         "https://www.bbc.co.uk/news/business-60649214",
         "https://www.bbc.co.uk/news/business-60649214?at_medium=RSS&at_campaign=KARANGA",
         "Food and drink giants have been criticised on social media for failing to speak out on Ukraine's invasion.",
         "news"
        ],
        [
         "105",
         "How many refugees have fled Ukraine and where are they going?",
         "2022-03-07 17:22:16+00:00",
         "https://www.bbc.co.uk/news/world-60555472",
         "https://www.bbc.co.uk/news/world-60555472?at_medium=RSS&at_campaign=KARANGA",
         "The UN says four million people may try to escape the war in Ukraine.",
         "news"
        ],
        [
         "108",
         "Ukraine: Irish student makes fresh escape attempt",
         "2022-03-07 18:19:02+00:00",
         "https://www.bbc.co.uk/news/world-europe-60638895",
         "https://www.bbc.co.uk/news/world-europe-60638895?at_medium=RSS&at_campaign=KARANGA",
         "A 19-year-old Irish woman living in Sumy is trying to leave the country amid Russian attacks.",
         "news"
        ],
        [
         "109",
         "Covid-19 in the UK: How many coronavirus cases are there in my area?",
         "2022-03-07 17:43:34+00:00",
         "https://www.bbc.co.uk/news/uk-51768274",
         "https://www.bbc.co.uk/news/uk-51768274?at_medium=RSS&at_campaign=KARANGA",
         "Explore the data on coronavirus in the UK and find out how many cases there are in your area.",
         "news"
        ],
        [
         "110",
         "War in Ukraine: Russia says it may cut gas supplies if oil ban goes ahead",
         "2022-03-08 06:26:55+00:00",
         "https://www.bbc.co.uk/news/business-60656673",
         "https://www.bbc.co.uk/news/business-60656673?at_medium=RSS&at_campaign=KARANGA",
         "A top official says Russia may close its gas lines to Germany if the West halts oil imports.",
         "news"
        ],
        [
         "111",
         "Ukraine: Volodymyr Zelensky to address UK MPs in Commons",
         "2022-03-08 06:54:21+00:00",
         "https://www.bbc.co.uk/news/uk-politics-60655003",
         "https://www.bbc.co.uk/news/uk-politics-60655003?at_medium=RSS&at_campaign=KARANGA",
         "The Ukrainian president will speak via video link to British politicians on Tuesday.",
         "news"
        ],
        [
         "121",
         "McDonald's and Coca-Cola boycott calls grow over Russia",
         "2022-03-08 07:26:15+00:00",
         "https://www.bbc.co.uk/news/business-60649214",
         "https://www.bbc.co.uk/news/business-60649214?at_medium=RSS&at_campaign=KARANGA",
         "Food and drink giants have been criticised on social media for failing to speak out on Ukraine's invasion.",
         "news"
        ],
        [
         "129",
         "Ukraine: Irish student makes fresh escape attempt",
         "2022-03-07 22:50:00+00:00",
         "https://www.bbc.co.uk/news/world-europe-60638895",
         "https://www.bbc.co.uk/news/world-europe-60638895?at_medium=RSS&at_campaign=KARANGA",
         "A 19-year-old Irish woman living in Sumy is trying to leave the country amid Russian attacks.",
         "news"
        ],
        [
         "135",
         "War in Ukraine: Russia says it may cut gas supplies if oil ban goes ahead",
         "2022-03-08 08:04:39+00:00",
         "https://www.bbc.co.uk/news/business-60656673",
         "https://www.bbc.co.uk/news/business-60656673?at_medium=RSS&at_campaign=KARANGA",
         "A top official says Russia may close its gas lines to Germany if the West halts oil imports.",
         "news"
        ],
        [
         "153",
         "Ukraine war: How reliant is the world on Russia for oil and gas?",
         "2022-03-08 18:00:43+00:00",
         "https://www.bbc.co.uk/news/58888451",
         "https://www.bbc.co.uk/news/58888451?at_medium=RSS&at_campaign=KARANGA",
         "Russia says it may cut off gas supplies if countries decided to ban Russian oil.",
         "news"
        ],
        [
         "233",
         "Ukraine war: How reliant is the world on Russia for oil and gas?",
         "2022-03-10 11:22:57+00:00",
         "https://www.bbc.co.uk/news/58888451",
         "https://www.bbc.co.uk/news/58888451?at_medium=RSS&at_campaign=KARANGA",
         "Russia has threatened to cut off gas supplies if countries ban its oil.",
         "news"
        ],
        [
         "248",
         "What sanctions are being imposed on Russia over Ukraine invasion?",
         "2022-03-11 15:12:07+00:00",
         "https://www.bbc.co.uk/news/world-europe-60125659",
         "https://www.bbc.co.uk/news/world-europe-60125659?at_medium=RSS&at_campaign=KARANGA",
         "Western nations have imposed severe sanctions on Russia over its invasion of Ukraine.",
         "news"
        ],
        [
         "274",
         "Covid-19 in the UK: How many coronavirus cases are there in my area?",
         "2022-03-11 17:52:37+00:00",
         "https://www.bbc.co.uk/news/uk-51768274",
         "https://www.bbc.co.uk/news/uk-51768274?at_medium=RSS&at_campaign=KARANGA",
         "Explore the data on coronavirus in the UK and find out how many cases there are in your area.",
         "news"
        ],
        [
         "371",
         "How many refugees have fled Ukraine and where are they going?",
         "2022-03-14 16:25:09+00:00",
         "https://www.bbc.co.uk/news/world-60555472",
         "https://www.bbc.co.uk/news/world-60555472?at_medium=RSS&at_campaign=KARANGA",
         "The UN says four million people may try to escape the war in Ukraine.",
         "news"
        ],
        [
         "389",
         "Ukraine war: Could Russia use tactical nuclear weapons?",
         "2022-03-16 00:32:03+00:00",
         "https://www.bbc.co.uk/news/world-60664169",
         "https://www.bbc.co.uk/news/world-60664169?at_medium=RSS&at_campaign=KARANGA",
         "Russia's nuclear weapons are 'combat ready', raising fears they could be used on the battlefield.",
         "news"
        ],
        [
         "390",
         "Nigerian volunteer: 'Fighting in Ukraine is better than living here'",
         "2022-03-16 00:33:05+00:00",
         "https://www.bbc.co.uk/news/world-africa-60712913",
         "https://www.bbc.co.uk/news/world-africa-60712913?at_medium=RSS&at_campaign=KARANGA",
         "Hundreds of young men across the continent say they want to take up arms in Ukraine.",
         "news"
        ],
        [
         "395",
         "What sanctions are being imposed on Russia over Ukraine invasion?",
         "2022-03-15 14:48:36+00:00",
         "https://www.bbc.co.uk/news/world-europe-60125659",
         "https://www.bbc.co.uk/news/world-europe-60125659?at_medium=RSS&at_campaign=KARANGA",
         "Western nations have imposed severe sanctions on Russia over its invasion of Ukraine.",
         "news"
        ],
        [
         "409",
         "Brittney Griner: How can a US basketball star just vanish?",
         "2022-03-15 23:25:37+00:00",
         "https://www.bbc.co.uk/news/world-us-canada-60701050",
         "https://www.bbc.co.uk/news/world-us-canada-60701050?at_medium=RSS&at_campaign=KARANGA",
         "Brittney Griner, widely considered the best female player of all time, has been detained in Russia.",
         "news"
        ],
        [
         "415",
         "Fears Russia will not be able to pay its debts mount",
         "2022-03-15 16:31:34+00:00",
         "https://www.bbc.co.uk/news/business-60750642",
         "https://www.bbc.co.uk/news/business-60750642?at_medium=RSS&at_campaign=KARANGA",
         "The country may be about to default on its debts as Western sanctions over Ukraine bite.",
         "news"
        ],
        [
         "437",
         "In pictures: 2022 Sony World Photography Awards",
         "2022-03-17 00:08:14+00:00",
         "https://www.bbc.co.uk/news/in-pictures-60752777",
         "https://www.bbc.co.uk/news/in-pictures-60752777?at_medium=RSS&at_campaign=KARANGA",
         "The winners of the Open category of the 2022 Sony World Photography Awards have been announced.",
         "news"
        ],
        [
         "443",
         "Covid-19 in the UK: How many coronavirus cases are there in my area?",
         "2022-03-17 03:03:36+00:00",
         "https://www.bbc.co.uk/news/uk-51768274",
         "https://www.bbc.co.uk/news/uk-51768274?at_medium=RSS&at_campaign=KARANGA",
         "Explore the data on coronavirus in the UK and find out how many cases there are in your area.",
         "news"
        ]
       ],
       "shape": {
        "columns": 6,
        "rows": 3372
       }
      },
      "text/html": [
       "<div>\n",
       "<style scoped>\n",
       "    .dataframe tbody tr th:only-of-type {\n",
       "        vertical-align: middle;\n",
       "    }\n",
       "\n",
       "    .dataframe tbody tr th {\n",
       "        vertical-align: top;\n",
       "    }\n",
       "\n",
       "    .dataframe thead th {\n",
       "        text-align: right;\n",
       "    }\n",
       "</style>\n",
       "<table border=\"1\" class=\"dataframe\">\n",
       "  <thead>\n",
       "    <tr style=\"text-align: right;\">\n",
       "      <th></th>\n",
       "      <th>title</th>\n",
       "      <th>pubDate</th>\n",
       "      <th>guid</th>\n",
       "      <th>link</th>\n",
       "      <th>description</th>\n",
       "      <th>category</th>\n",
       "    </tr>\n",
       "  </thead>\n",
       "  <tbody>\n",
       "    <tr>\n",
       "      <th>4</th>\n",
       "      <td>Ukraine conflict: Oil price soars to highest l...</td>\n",
       "      <td>2022-03-07 08:15:53+00:00</td>\n",
       "      <td>https://www.bbc.co.uk/news/business-60642786</td>\n",
       "      <td>https://www.bbc.co.uk/news/business-60642786?a...</td>\n",
       "      <td>Consumers are feeling the impact of higher ene...</td>\n",
       "      <td>news</td>\n",
       "    </tr>\n",
       "    <tr>\n",
       "      <th>5</th>\n",
       "      <td>Ukraine war: PM to hold talks with world leade...</td>\n",
       "      <td>2022-03-07 08:33:29+00:00</td>\n",
       "      <td>https://www.bbc.co.uk/news/uk-60642926</td>\n",
       "      <td>https://www.bbc.co.uk/news/uk-60642926?at_medi...</td>\n",
       "      <td>Boris Johnson is to meet the Canadian and Dutc...</td>\n",
       "      <td>news</td>\n",
       "    </tr>\n",
       "    <tr>\n",
       "      <th>18</th>\n",
       "      <td>Five ways the Ukraine war could push up prices</td>\n",
       "      <td>2022-03-04 22:09:49+00:00</td>\n",
       "      <td>https://www.bbc.co.uk/news/business-60509453</td>\n",
       "      <td>https://www.bbc.co.uk/news/business-60509453?a...</td>\n",
       "      <td>Prices for everyday items could go up at a tim...</td>\n",
       "      <td>news</td>\n",
       "    </tr>\n",
       "    <tr>\n",
       "      <th>44</th>\n",
       "      <td>Covid-19 in the UK: How many coronavirus cases...</td>\n",
       "      <td>2022-03-04 17:34:34+00:00</td>\n",
       "      <td>https://www.bbc.co.uk/news/uk-51768274</td>\n",
       "      <td>https://www.bbc.co.uk/news/uk-51768274?at_medi...</td>\n",
       "      <td>Explore the data on coronavirus in the UK and ...</td>\n",
       "      <td>news</td>\n",
       "    </tr>\n",
       "    <tr>\n",
       "      <th>49</th>\n",
       "      <td>Covid: How to look after yourself at home</td>\n",
       "      <td>2022-01-18 12:46:56+00:00</td>\n",
       "      <td>https://www.bbc.co.uk/news/health-59683083</td>\n",
       "      <td>https://www.bbc.co.uk/news/health-59683083?at_...</td>\n",
       "      <td>What can you expect if you have Covid, and whe...</td>\n",
       "      <td>news</td>\n",
       "    </tr>\n",
       "    <tr>\n",
       "      <th>...</th>\n",
       "      <td>...</td>\n",
       "      <td>...</td>\n",
       "      <td>...</td>\n",
       "      <td>...</td>\n",
       "      <td>...</td>\n",
       "      <td>...</td>\n",
       "    </tr>\n",
       "    <tr>\n",
       "      <th>32956</th>\n",
       "      <td>Tight three-way race in Irish general election...</td>\n",
       "      <td>2024-11-29 23:29:48+00:00</td>\n",
       "      <td>https://www.bbc.com/news/articles/cz9x9wn802ko#9</td>\n",
       "      <td>https://www.bbc.com/news/articles/cz9x9wn802ko</td>\n",
       "      <td>Voters have been casting their ballot to choos...</td>\n",
       "      <td>news</td>\n",
       "    </tr>\n",
       "    <tr>\n",
       "      <th>32957</th>\n",
       "      <td>Could police have handled Skye shooting differ...</td>\n",
       "      <td>2024-11-29 22:57:24+00:00</td>\n",
       "      <td>https://www.bbc.com/news/articles/czxv9z0vdwvo#9</td>\n",
       "      <td>https://www.bbc.com/news/articles/czxv9z0vdwvo</td>\n",
       "      <td>Finlay MacDonald was jailed on Friday for kill...</td>\n",
       "      <td>news</td>\n",
       "    </tr>\n",
       "    <tr>\n",
       "      <th>32974</th>\n",
       "      <td>'It's part of my DNA': Charli XCX and the figh...</td>\n",
       "      <td>2024-11-29 18:05:05+00:00</td>\n",
       "      <td>https://www.bbc.com/news/articles/c1dpv363e45o#1</td>\n",
       "      <td>https://www.bbc.com/news/articles/c1dpv363e45o</td>\n",
       "      <td>Can Charli XCX's Brat tour give the UK's club ...</td>\n",
       "      <td>news</td>\n",
       "    </tr>\n",
       "    <tr>\n",
       "      <th>32984</th>\n",
       "      <td>Could police have handled Skye shooting differ...</td>\n",
       "      <td>2024-11-30 09:33:58+00:00</td>\n",
       "      <td>https://www.bbc.com/news/articles/czxv9z0vdwvo#8</td>\n",
       "      <td>https://www.bbc.com/news/articles/czxv9z0vdwvo</td>\n",
       "      <td>Finlay MacDonald was jailed on Friday for kill...</td>\n",
       "      <td>news</td>\n",
       "    </tr>\n",
       "    <tr>\n",
       "      <th>32986</th>\n",
       "      <td>Inside the £4m mansion Jurgen Klopp called home</td>\n",
       "      <td>2024-11-29 15:24:06+00:00</td>\n",
       "      <td>https://www.bbc.com/news/articles/c62jpe6782vo#8</td>\n",
       "      <td>https://www.bbc.com/news/articles/c62jpe6782vo</td>\n",
       "      <td>Take a peak behind the doors of the football m...</td>\n",
       "      <td>news</td>\n",
       "    </tr>\n",
       "  </tbody>\n",
       "</table>\n",
       "<p>3372 rows × 6 columns</p>\n",
       "</div>"
      ],
      "text/plain": [
       "                                                   title  \\\n",
       "4      Ukraine conflict: Oil price soars to highest l...   \n",
       "5      Ukraine war: PM to hold talks with world leade...   \n",
       "18        Five ways the Ukraine war could push up prices   \n",
       "44     Covid-19 in the UK: How many coronavirus cases...   \n",
       "49             Covid: How to look after yourself at home   \n",
       "...                                                  ...   \n",
       "32956  Tight three-way race in Irish general election...   \n",
       "32957  Could police have handled Skye shooting differ...   \n",
       "32974  'It's part of my DNA': Charli XCX and the figh...   \n",
       "32984  Could police have handled Skye shooting differ...   \n",
       "32986    Inside the £4m mansion Jurgen Klopp called home   \n",
       "\n",
       "                        pubDate  \\\n",
       "4     2022-03-07 08:15:53+00:00   \n",
       "5     2022-03-07 08:33:29+00:00   \n",
       "18    2022-03-04 22:09:49+00:00   \n",
       "44    2022-03-04 17:34:34+00:00   \n",
       "49    2022-01-18 12:46:56+00:00   \n",
       "...                         ...   \n",
       "32956 2024-11-29 23:29:48+00:00   \n",
       "32957 2024-11-29 22:57:24+00:00   \n",
       "32974 2024-11-29 18:05:05+00:00   \n",
       "32984 2024-11-30 09:33:58+00:00   \n",
       "32986 2024-11-29 15:24:06+00:00   \n",
       "\n",
       "                                                   guid  \\\n",
       "4          https://www.bbc.co.uk/news/business-60642786   \n",
       "5                https://www.bbc.co.uk/news/uk-60642926   \n",
       "18         https://www.bbc.co.uk/news/business-60509453   \n",
       "44               https://www.bbc.co.uk/news/uk-51768274   \n",
       "49           https://www.bbc.co.uk/news/health-59683083   \n",
       "...                                                 ...   \n",
       "32956  https://www.bbc.com/news/articles/cz9x9wn802ko#9   \n",
       "32957  https://www.bbc.com/news/articles/czxv9z0vdwvo#9   \n",
       "32974  https://www.bbc.com/news/articles/c1dpv363e45o#1   \n",
       "32984  https://www.bbc.com/news/articles/czxv9z0vdwvo#8   \n",
       "32986  https://www.bbc.com/news/articles/c62jpe6782vo#8   \n",
       "\n",
       "                                                    link  \\\n",
       "4      https://www.bbc.co.uk/news/business-60642786?a...   \n",
       "5      https://www.bbc.co.uk/news/uk-60642926?at_medi...   \n",
       "18     https://www.bbc.co.uk/news/business-60509453?a...   \n",
       "44     https://www.bbc.co.uk/news/uk-51768274?at_medi...   \n",
       "49     https://www.bbc.co.uk/news/health-59683083?at_...   \n",
       "...                                                  ...   \n",
       "32956     https://www.bbc.com/news/articles/cz9x9wn802ko   \n",
       "32957     https://www.bbc.com/news/articles/czxv9z0vdwvo   \n",
       "32974     https://www.bbc.com/news/articles/c1dpv363e45o   \n",
       "32984     https://www.bbc.com/news/articles/czxv9z0vdwvo   \n",
       "32986     https://www.bbc.com/news/articles/c62jpe6782vo   \n",
       "\n",
       "                                             description category  \n",
       "4      Consumers are feeling the impact of higher ene...     news  \n",
       "5      Boris Johnson is to meet the Canadian and Dutc...     news  \n",
       "18     Prices for everyday items could go up at a tim...     news  \n",
       "44     Explore the data on coronavirus in the UK and ...     news  \n",
       "49     What can you expect if you have Covid, and whe...     news  \n",
       "...                                                  ...      ...  \n",
       "32956  Voters have been casting their ballot to choos...     news  \n",
       "32957  Finlay MacDonald was jailed on Friday for kill...     news  \n",
       "32974  Can Charli XCX's Brat tour give the UK's club ...     news  \n",
       "32984  Finlay MacDonald was jailed on Friday for kill...     news  \n",
       "32986  Take a peak behind the doors of the football m...     news  \n",
       "\n",
       "[3372 rows x 6 columns]"
      ]
     },
     "metadata": {},
     "output_type": "display_data"
    },
    {
     "data": {
      "application/vnd.microsoft.datawrangler.viewer.v0+json": {
       "columns": [
        {
         "name": "index",
         "rawType": "int64",
         "type": "integer"
        },
        {
         "name": "title",
         "rawType": "object",
         "type": "string"
        },
        {
         "name": "pubDate",
         "rawType": "datetime64[ns, UTC]",
         "type": "unknown"
        },
        {
         "name": "guid",
         "rawType": "object",
         "type": "string"
        },
        {
         "name": "link",
         "rawType": "object",
         "type": "string"
        },
        {
         "name": "description",
         "rawType": "object",
         "type": "string"
        },
        {
         "name": "category",
         "rawType": "object",
         "type": "string"
        }
       ],
       "conversionMethod": "pd.DataFrame",
       "ref": "b757fc51-cbce-4613-b3da-1bea6d85560d",
       "rows": [
        [
         "0",
         "Pisces III submersible: A dramatic underwater rescue",
         "2013-08-30 01:01:55+00:00",
         "https://www.bbc.co.uk/news/magazine-23862359",
         "https://www.bbc.co.uk/news/magazine-23862359?at_medium=RSS&at_campaign=KARANGA",
         "Fifty years ago two Britons spent three days trapped in a submersible at the bottom of the seabed while a dramatic rescue operation was under way.",
         "news"
        ],
        [
         "1",
         "Prince's original of Nothing Compares 2 U released",
         "2018-04-20 11:30:59+00:00",
         "https://www.bbc.co.uk/news/entertainment-arts-43836755",
         "https://www.bbc.co.uk/news/entertainment-arts-43836755?at_medium=RSS&at_campaign=KARANGA",
         "The star's original version of the song was recorded six years before Sinead O'Connor made it a hit.",
         "news"
        ],
        [
         "2",
         "Grenfell Tower: What happened",
         "2019-10-29 10:27:28+00:00",
         "https://www.bbc.co.uk/news/uk-40301289",
         "https://www.bbc.co.uk/news/uk-40301289?at_medium=RSS&at_campaign=KARANGA",
         "Images, maps and graphics explaining how the devastating fire at Grenfell Tower may have started and how it spread.",
         "news"
        ],
        [
         "3",
         "Trump: I just want to find 11,780 votes",
         "2021-01-03 21:34:33+00:00",
         "https://www.bbc.co.uk/news/world-us-canada-55524676",
         "https://www.bbc.co.uk/news/world-us-canada-55524676?at_medium=RSS&at_campaign=KARANGA",
         "US President Donald Trump is heard telling Georgia's top election official to \"find\" enough votes to overturn the election, in a recording released by The Washington Post.",
         "news"
        ],
        [
         "4",
         "Grenfell Tower inquiry: 9 things we now know about the cladding",
         "2021-03-23 02:24:13+00:00",
         "https://www.bbc.co.uk/news/uk-56403431",
         "https://www.bbc.co.uk/news/uk-56403431?at_medium=RSS&at_campaign=KARANGA",
         "A public inquiry has questioned employees of the metals firm that supplied cladding for Grenfell.",
         "news"
        ],
        [
         "5",
         "Tips on how to save energy at home and help the planet",
         "2021-10-20 10:58:26+00:00",
         "https://www.bbc.co.uk/news/uk-58967580",
         "https://www.bbc.co.uk/news/uk-58967580?at_medium=RSS&at_campaign=KARANGA",
         "What can homeowners do to reduce their energy consumption?",
         "news"
        ],
        [
         "6",
         "What do scientists actually want?",
         "2021-11-09 01:21:41+00:00",
         "https://www.bbc.co.uk/news/science-environment-59212185",
         "https://www.bbc.co.uk/news/science-environment-59212185?at_medium=RSS&at_campaign=KARANGA",
         "We asked climate experts from around the world what they want to see agreed at COP26 this week.",
         "news"
        ],
        [
         "7",
         "COP26: What was agreed at the Glasgow climate conference?",
         "2021-11-15 13:28:34+00:00",
         "https://www.bbc.co.uk/news/science-environment-56901261",
         "https://www.bbc.co.uk/news/science-environment-56901261?at_medium=RSS&at_campaign=KARANGA",
         "A crucial climate change summit has been held in the UK which could change our lives.",
         "news"
        ],
        [
         "8",
         "Covid: How to look after yourself at home",
         "2022-01-18 12:46:56+00:00",
         "https://www.bbc.co.uk/news/health-59683083",
         "https://www.bbc.co.uk/news/health-59683083?at_medium=RSS&at_campaign=KARANGA",
         "What can you expect if you have Covid, and when should you get extra help?",
         "news"
        ],
        [
         "9",
         "Are the Conservatives keeping their election promises?",
         "2022-01-28 12:58:30+00:00",
         "https://www.bbc.co.uk/news/uk-politics-58401767",
         "https://www.bbc.co.uk/news/uk-politics-58401767?at_medium=RSS&at_campaign=KARANGA",
         "The Conservatives made promises on nurses, police, Brexit and immigration in their 2019 manifesto.",
         "news"
        ],
        [
         "10",
         "Platinum Jubilee: Queen's life in pictures",
         "2022-02-06 13:27:04+00:00",
         "https://www.bbc.co.uk/news/in-pictures-60279300",
         "https://www.bbc.co.uk/news/in-pictures-60279300?at_medium=RSS&at_campaign=KARANGA",
         "As the Queen marks 70 years on the throne, we present an image from every year of her life.",
         "news"
        ],
        [
         "11",
         "What Covid tests do I still need to travel abroad?",
         "2022-02-11 09:47:28+00:00",
         "https://www.bbc.co.uk/news/explainers-52544307",
         "https://www.bbc.co.uk/news/explainers-52544307?at_medium=RSS&at_campaign=KARANGA",
         "From Friday, fully vaccinated people travelling to the UK no longer have to take any Covid tests.",
         "news"
        ],
        [
         "12",
         "How will the vulnerable be protected from Covid? And other questions",
         "2022-02-22 15:25:22+00:00",
         "https://www.bbc.co.uk/news/world-asia-china-51176409",
         "https://www.bbc.co.uk/news/world-asia-china-51176409?at_medium=RSS&at_campaign=KARANGA",
         "The government has announced the end of all Covid restrictions in England.",
         "news"
        ],
        [
         "13",
         "What are the self-isolation rules in England and the rest of the UK?",
         "2022-02-24 11:05:57+00:00",
         "https://www.bbc.co.uk/news/explainers-54239922",
         "https://www.bbc.co.uk/news/explainers-54239922?at_medium=RSS&at_campaign=KARANGA",
         "People with Covid in England are no longer legally required to self-isolate, although it is still recommended.",
         "news"
        ],
        [
         "14",
         "When will free Covid tests end in England?",
         "2022-02-24 13:06:04+00:00",
         "https://www.bbc.co.uk/news/health-51943612",
         "https://www.bbc.co.uk/news/health-51943612?at_medium=RSS&at_campaign=KARANGA",
         "The government is scrapping free Covid tests for most people in England.",
         "news"
        ],
        [
         "15",
         "Covid: Five things we still need to keep an eye on",
         "2022-02-26 00:50:33+00:00",
         "https://www.bbc.co.uk/news/health-60494159",
         "https://www.bbc.co.uk/news/health-60494159?at_medium=RSS&at_campaign=KARANGA",
         "The UK is moving to its \"living with Covid\" phase, but the virus still needs to be watched closely.",
         "news"
        ],
        [
         "16",
         "Covid map: Coronavirus cases, deaths, vaccinations by country",
         "2022-02-28 12:08:00+00:00",
         "https://www.bbc.co.uk/news/world-51235105",
         "https://www.bbc.co.uk/news/world-51235105?at_medium=RSS&at_campaign=KARANGA",
         "Key maps and charts explaining how the virus has spread around the world.",
         "news"
        ],
        [
         "17",
         "What are the latest rules for face coverings and masks?",
         "2022-03-01 09:53:08+00:00",
         "https://www.bbc.co.uk/news/health-51205344",
         "https://www.bbc.co.uk/news/health-51205344?at_medium=RSS&at_campaign=KARANGA",
         "Rules around face coverings are easing across the UK but they are still required in some settings.",
         "news"
        ],
        [
         "18",
         "Covid boosters: Who will get a fourth dose?",
         "2022-03-02 12:11:20+00:00",
         "https://www.bbc.co.uk/news/health-55045639",
         "https://www.bbc.co.uk/news/health-55045639?at_medium=RSS&at_campaign=KARANGA",
         "Care workers in England won't need to be vaccinated, and some people will get a fourth Covid jab.",
         "news"
        ],
        [
         "19",
         "Economic Crime Bill: What is it and will it find Putin's loot?",
         "2022-03-03 17:17:00+00:00",
         "https://www.bbc.co.uk/news/uk-60579997",
         "https://www.bbc.co.uk/news/uk-60579997?at_medium=RSS&at_campaign=KARANGA",
         "Will the Economic Crime Bill really tackle Putin's money - or is it too little, too late?",
         "news"
        ],
        [
         "20",
         "Ukraine war: Why Kherson and Mariupol are key to Russian success",
         "2022-03-04 12:54:25+00:00",
         "https://www.bbc.co.uk/news/world-europe-60604876",
         "https://www.bbc.co.uk/news/world-europe-60604876?at_medium=RSS&at_campaign=KARANGA",
         "There are both strategic and historical reasons why the offensive in southern Ukraine is vital for Russia.",
         "news"
        ],
        [
         "21",
         "What are the UK's 'Living with Covid' plans?",
         "2022-03-04 15:48:28+00:00",
         "https://www.bbc.co.uk/news/explainers-52530518",
         "https://www.bbc.co.uk/news/explainers-52530518?at_medium=RSS&at_campaign=KARANGA",
         "All legal Covid restrictions in England have ended, with Wales and Scotland also removing rules.",
         "news"
        ],
        [
         "22",
         "Covid-19 in the UK: How many coronavirus cases are there in my area?",
         "2022-03-04 17:34:34+00:00",
         "https://www.bbc.co.uk/news/uk-51768274",
         "https://www.bbc.co.uk/news/uk-51768274?at_medium=RSS&at_campaign=KARANGA",
         "Explore the data on coronavirus in the UK and find out how many cases there are in your area.",
         "news"
        ],
        [
         "23",
         "Why doesn't Ukraine attack the Russian convoy? And other questions",
         "2022-03-04 18:04:14+00:00",
         "https://www.bbc.co.uk/news/world-60617145",
         "https://www.bbc.co.uk/news/world-60617145?at_medium=RSS&at_campaign=KARANGA",
         "Correspondents and experts answer questions from readers on the BBC News website",
         "news"
        ],
        [
         "24",
         "War in Ukraine: Russians on boycotts, sanctions and cancellations",
         "2022-03-04 18:17:55+00:00",
         "https://www.bbc.co.uk/news/world-europe-60585720",
         "https://www.bbc.co.uk/news/world-europe-60585720?at_medium=RSS&at_campaign=KARANGA",
         "Russia is being hit by a global backlash after it invaded Ukraine. How does it feel to be shunned?",
         "news"
        ],
        [
         "25",
         "Ukraine war: 'My city's being shelled, but mum won’t believe me'",
         "2022-03-04 18:32:49+00:00",
         "https://www.bbc.co.uk/news/world-europe-60600487",
         "https://www.bbc.co.uk/news/world-europe-60600487?at_medium=RSS&at_campaign=KARANGA",
         "These Ukrainians say their Russian relatives only trust the narratives they see on TV at home.",
         "news"
        ],
        [
         "26",
         "Nuclear plant: How close was nuclear plant attack to catastrophe?",
         "2022-03-04 19:32:49+00:00",
         "https://www.bbc.co.uk/news/world-60609633",
         "https://www.bbc.co.uk/news/world-60609633?at_medium=RSS&at_campaign=KARANGA",
         "After Russia seizes two nuclear plant sites, experts weigh the risk to Ukraine and the world at large.",
         "news"
        ],
        [
         "27",
         "Five ways the Ukraine war could push up prices",
         "2022-03-04 22:09:49+00:00",
         "https://www.bbc.co.uk/news/business-60509453",
         "https://www.bbc.co.uk/news/business-60509453?at_medium=RSS&at_campaign=KARANGA",
         "Prices for everyday items could go up at a time when the cost of living is already rising.",
         "news"
        ],
        [
         "28",
         "Russia oligarchs: The mega-rich men facing global sanctions",
         "2022-03-05 00:34:34+00:00",
         "https://www.bbc.co.uk/news/uk-60593022",
         "https://www.bbc.co.uk/news/uk-60593022?at_medium=RSS&at_campaign=KARANGA",
         "President Putin has for years warned Russia's richest to protect themselves against sanctions.",
         "news"
        ],
        [
         "29",
         "European peace seems as fragile as ever",
         "2022-03-05 00:36:11+00:00",
         "https://www.bbc.co.uk/news/world-60622772",
         "https://www.bbc.co.uk/news/world-60622772?at_medium=RSS&at_campaign=KARANGA",
         "The shifting of European history's tectonic plates is not really that unexpected, explains Kevin Connolly.",
         "news"
        ],
        [
         "30",
         "War in Ukraine: Russian helicopter shot down by missile",
         "2022-03-05 12:26:02+00:00",
         "https://www.bbc.co.uk/news/world-europe-60630352",
         "https://www.bbc.co.uk/news/world-europe-60630352?at_medium=RSS&at_campaign=KARANGA",
         "The video, shared by Ukrainian armed forces, shows the helicopter being hit by a missile.",
         "news"
        ],
        [
         "31",
         "From Grozny to Aleppo to Ukraine, Russia meets resistance with more firepower",
         "2022-03-05 16:37:11+00:00",
         "https://www.bbc.co.uk/news/world-europe-60631433",
         "https://www.bbc.co.uk/news/world-europe-60631433?at_medium=RSS&at_campaign=KARANGA",
         "Russia answers resistance with big guns and sieges. Ukrainians pray that will not happen to them, writes the BBC's Jeremy Bowen in Kyiv.",
         "news"
        ],
        [
         "32",
         "Jane Campion: Power of the Dog director thrilled with her Hollywood comeback",
         "2022-03-06 00:13:54+00:00",
         "https://www.bbc.co.uk/news/entertainment-arts-60562041",
         "https://www.bbc.co.uk/news/entertainment-arts-60562041?at_medium=RSS&at_campaign=KARANGA",
         "The award-winning director is championing women in Hollywood after a break away from the big screen.",
         "news"
        ],
        [
         "33",
         "Ukraine: 'We try to tell them the truth' - parenting in wartime",
         "2022-03-06 00:17:05+00:00",
         "https://www.bbc.co.uk/news/world-europe-60632147",
         "https://www.bbc.co.uk/news/world-europe-60632147?at_medium=RSS&at_campaign=KARANGA",
         "In Ukraine, families are having to adapt to being at war. But what do you tell the children?",
         "news"
        ],
        [
         "34",
         "The young Ukrainians battling pro-Russian trolls",
         "2022-03-06 00:19:21+00:00",
         "https://www.bbc.co.uk/news/blogs-trending-60596133",
         "https://www.bbc.co.uk/news/blogs-trending-60596133?at_medium=RSS&at_campaign=KARANGA",
         "Conspiracy theories and trolls are adding to the chaos of war.",
         "news"
        ],
        [
         "35",
         "Zeebrugge: 'You had to cling on for your dear life'",
         "2022-03-06 00:19:31+00:00",
         "https://www.bbc.co.uk/news/60608322",
         "https://www.bbc.co.uk/news/60608322?at_medium=RSS&at_campaign=KARANGA",
         "Lynette Lee survived the Zeebrugge ferry disaster 35 years ago - one that killed 193 people.",
         "news"
        ],
        [
         "36",
         "Mandibuloacral dysplasia: 'You feel guilty not wanting her to get older'",
         "2022-03-06 00:23:18+00:00",
         "https://www.bbc.co.uk/news/uk-england-leicestershire-60587020",
         "https://www.bbc.co.uk/news/uk-england-leicestershire-60587020?at_medium=RSS&at_campaign=KARANGA",
         "The parents of five-year-old Isla say she is the only child in the world with a rare condition.",
         "news"
        ],
        [
         "37",
         "Belfast: The sounds of the city during Covid lockdowns",
         "2022-03-06 00:27:54+00:00",
         "https://www.bbc.co.uk/news/uk-northern-ireland-60601083",
         "https://www.bbc.co.uk/news/uk-northern-ireland-60601083?at_medium=RSS&at_campaign=KARANGA",
         "A student at Queen's University Belfast used his daily walks to record the sounds of Covid lockdowns.",
         "news"
        ],
        [
         "38",
         "Why Indian fathers are embracing paternity leave",
         "2022-03-06 00:37:57+00:00",
         "https://www.bbc.co.uk/news/world-asia-india-60491095",
         "https://www.bbc.co.uk/news/world-asia-india-60491095?at_medium=RSS&at_campaign=KARANGA",
         "The pandemic and changing family structures have highlighted how young parents are struggling with childcare.",
         "news"
        ],
        [
         "39",
         "BBC Ukrainian editor: 'My mother called to say she'd managed to buy bread'",
         "2022-03-06 01:02:02+00:00",
         "https://www.bbc.co.uk/news/world-europe-60633888",
         "https://www.bbc.co.uk/news/world-europe-60633888?at_medium=RSS&at_campaign=KARANGA",
         "In the second week of war, the BBC's Ukrainian editor says empty shelves are an increasing reality.",
         "news"
        ],
        [
         "40",
         "War in Ukraine: Russian invasion fuels Finnish support for Nato",
         "2022-03-06 02:10:21+00:00",
         "https://www.bbc.co.uk/news/world-europe-60626536",
         "https://www.bbc.co.uk/news/world-europe-60626536?at_medium=RSS&at_campaign=KARANGA",
         "President Putin's devastating attack on Ukraine leaves countries in the region worried about their future.",
         "news"
        ],
        [
         "41",
         "Ukraine crisis: The West fights back against Putin the disruptor",
         "2022-03-06 07:25:00+00:00",
         "https://www.bbc.co.uk/news/world-us-canada-60597186",
         "https://www.bbc.co.uk/news/world-us-canada-60597186?at_medium=RSS&at_campaign=KARANGA",
         "Several US presidents have failed to get the measure of him but now Europe has joined the fray things may change.",
         "news"
        ],
        [
         "42",
         "Roman fort survey near Melrose aims to unveil more secrets",
         "2022-03-06 07:45:15+00:00",
         "https://www.bbc.co.uk/news/uk-scotland-south-scotland-60602352",
         "https://www.bbc.co.uk/news/uk-scotland-south-scotland-60602352?at_medium=RSS&at_campaign=KARANGA",
         "Ground penetrating radar will give a clearer picture of the story of Trimontium in the Borders.",
         "news"
        ],
        [
         "43",
         "Identity: What does it mean to be Welsh?",
         "2022-03-06 08:10:02+00:00",
         "https://www.bbc.co.uk/news/uk-wales-60590685",
         "https://www.bbc.co.uk/news/uk-wales-60590685?at_medium=RSS&at_campaign=KARANGA",
         "Two writers on being Welsh when your appearance does not \"match an accepted aesthetic of Welshness\".",
         "news"
        ],
        [
         "44",
         "'They thought he was too young for heart disease'",
         "2022-03-06 09:14:03+00:00",
         "https://www.bbc.co.uk/news/uk-england-cambridgeshire-60610329",
         "https://www.bbc.co.uk/news/uk-england-cambridgeshire-60610329?at_medium=RSS&at_campaign=KARANGA",
         "A mother whose son died from heart disease urges parents to know the signs and trust their instincts.",
         "news"
        ],
        [
         "45",
         "Mariupol: Fires, no water, and bodies in the street",
         "2022-03-06 09:26:59+00:00",
         "https://www.bbc.co.uk/news/world-europe-60637338",
         "https://www.bbc.co.uk/news/world-europe-60637338?at_medium=RSS&at_campaign=KARANGA",
         "Maxim, a 27-year-old city resident, tells the BBC what happened after the first ceasefire collapsed.",
         "news"
        ],
        [
         "46",
         "Ukraine maps: New agreed ceasefire breaks down in south",
         "2022-03-06 14:10:23+00:00",
         "https://www.bbc.co.uk/news/world-europe-60506682",
         "https://www.bbc.co.uk/news/world-europe-60506682?at_medium=RSS&at_campaign=KARANGA",
         "A ceasefire agreement in the southern city of Mariupol, breaks down a second time, with both sides blaming each other.",
         "news"
        ],
        [
         "47",
         "Man in dinghy in near miss with Southampton-bound container ship",
         "2022-03-06 17:11:51+00:00",
         "https://www.bbc.co.uk/news/uk-england-hampshire-60639923",
         "https://www.bbc.co.uk/news/uk-england-hampshire-60639923?at_medium=RSS&at_campaign=KARANGA",
         "The moment a man swims out of the path of a container ship off Southampton is captured on a phone.",
         "news"
        ],
        [
         "48",
         "Ukraine invasion: Military couple marry on the frontline",
         "2022-03-06 19:00:39+00:00",
         "https://www.bbc.co.uk/news/world-europe-60641868",
         "https://www.bbc.co.uk/news/world-europe-60641868?at_medium=RSS&at_campaign=KARANGA",
         "Lesya and Valeri, both civil defence volunteers, tied the knot at a checkpoint near Kyiv.",
         "news"
        ],
        [
         "49",
         "Ukraine invasion: Military couple marry on the front line",
         "2022-03-06 19:00:39+00:00",
         "https://www.bbc.co.uk/news/world-europe-60641868",
         "https://www.bbc.co.uk/news/world-europe-60641868?at_medium=RSS&at_campaign=KARANGA",
         "Lesya and Valeri, both civil defence volunteers, tied the knot at a check-point near Kyiv.",
         "news"
        ]
       ],
       "shape": {
        "columns": 6,
        "rows": 33077
       }
      },
      "text/html": [
       "<div>\n",
       "<style scoped>\n",
       "    .dataframe tbody tr th:only-of-type {\n",
       "        vertical-align: middle;\n",
       "    }\n",
       "\n",
       "    .dataframe tbody tr th {\n",
       "        vertical-align: top;\n",
       "    }\n",
       "\n",
       "    .dataframe thead th {\n",
       "        text-align: right;\n",
       "    }\n",
       "</style>\n",
       "<table border=\"1\" class=\"dataframe\">\n",
       "  <thead>\n",
       "    <tr style=\"text-align: right;\">\n",
       "      <th></th>\n",
       "      <th>title</th>\n",
       "      <th>pubDate</th>\n",
       "      <th>guid</th>\n",
       "      <th>link</th>\n",
       "      <th>description</th>\n",
       "      <th>category</th>\n",
       "    </tr>\n",
       "  </thead>\n",
       "  <tbody>\n",
       "    <tr>\n",
       "      <th>0</th>\n",
       "      <td>Pisces III submersible: A dramatic underwater ...</td>\n",
       "      <td>2013-08-30 01:01:55+00:00</td>\n",
       "      <td>https://www.bbc.co.uk/news/magazine-23862359</td>\n",
       "      <td>https://www.bbc.co.uk/news/magazine-23862359?a...</td>\n",
       "      <td>Fifty years ago two Britons spent three days t...</td>\n",
       "      <td>news</td>\n",
       "    </tr>\n",
       "    <tr>\n",
       "      <th>1</th>\n",
       "      <td>Prince's original of Nothing Compares 2 U rele...</td>\n",
       "      <td>2018-04-20 11:30:59+00:00</td>\n",
       "      <td>https://www.bbc.co.uk/news/entertainment-arts-...</td>\n",
       "      <td>https://www.bbc.co.uk/news/entertainment-arts-...</td>\n",
       "      <td>The star's original version of the song was re...</td>\n",
       "      <td>news</td>\n",
       "    </tr>\n",
       "    <tr>\n",
       "      <th>2</th>\n",
       "      <td>Grenfell Tower: What happened</td>\n",
       "      <td>2019-10-29 10:27:28+00:00</td>\n",
       "      <td>https://www.bbc.co.uk/news/uk-40301289</td>\n",
       "      <td>https://www.bbc.co.uk/news/uk-40301289?at_medi...</td>\n",
       "      <td>Images, maps and graphics explaining how the d...</td>\n",
       "      <td>news</td>\n",
       "    </tr>\n",
       "    <tr>\n",
       "      <th>3</th>\n",
       "      <td>Trump: I just want to find 11,780 votes</td>\n",
       "      <td>2021-01-03 21:34:33+00:00</td>\n",
       "      <td>https://www.bbc.co.uk/news/world-us-canada-555...</td>\n",
       "      <td>https://www.bbc.co.uk/news/world-us-canada-555...</td>\n",
       "      <td>US President Donald Trump is heard telling Geo...</td>\n",
       "      <td>news</td>\n",
       "    </tr>\n",
       "    <tr>\n",
       "      <th>4</th>\n",
       "      <td>Grenfell Tower inquiry: 9 things we now know a...</td>\n",
       "      <td>2021-03-23 02:24:13+00:00</td>\n",
       "      <td>https://www.bbc.co.uk/news/uk-56403431</td>\n",
       "      <td>https://www.bbc.co.uk/news/uk-56403431?at_medi...</td>\n",
       "      <td>A public inquiry has questioned employees of t...</td>\n",
       "      <td>news</td>\n",
       "    </tr>\n",
       "    <tr>\n",
       "      <th>...</th>\n",
       "      <td>...</td>\n",
       "      <td>...</td>\n",
       "      <td>...</td>\n",
       "      <td>...</td>\n",
       "      <td>...</td>\n",
       "      <td>...</td>\n",
       "    </tr>\n",
       "    <tr>\n",
       "      <th>33072</th>\n",
       "      <td>'Pickling a cucumber changed my life' says Tik...</td>\n",
       "      <td>2024-12-03 22:37:51+00:00</td>\n",
       "      <td>https://www.bbc.com/news/articles/c0lg82zlyp9o#0</td>\n",
       "      <td>https://www.bbc.com/news/articles/c0lg82zlyp9o</td>\n",
       "      <td>A film parody actor, a pool cleaner and pickle...</td>\n",
       "      <td>news</td>\n",
       "    </tr>\n",
       "    <tr>\n",
       "      <th>33073</th>\n",
       "      <td>Scottish Budget presents huge challenges for SNP</td>\n",
       "      <td>2024-12-03 23:00:17+00:00</td>\n",
       "      <td>https://www.bbc.com/news/articles/ckg1m1j2grpo#9</td>\n",
       "      <td>https://www.bbc.com/news/articles/ckg1m1j2grpo</td>\n",
       "      <td>Finance Secretary Shona Robison is preparing t...</td>\n",
       "      <td>news</td>\n",
       "    </tr>\n",
       "    <tr>\n",
       "      <th>33074</th>\n",
       "      <td>Three rail firms to be renationalised next year</td>\n",
       "      <td>2024-12-04 00:02:37+00:00</td>\n",
       "      <td>https://www.bbc.com/news/articles/ceqlnrgjr79o#0</td>\n",
       "      <td>https://www.bbc.com/news/articles/ceqlnrgjr79o</td>\n",
       "      <td>The rail operators will be renationalised in M...</td>\n",
       "      <td>news</td>\n",
       "    </tr>\n",
       "    <tr>\n",
       "      <th>33075</th>\n",
       "      <td>School tells Muslim girls it’s ‘not safe’ for ...</td>\n",
       "      <td>2024-12-04 00:03:58+00:00</td>\n",
       "      <td>https://www.bbc.com/news/articles/cx2wk0k4597o#9</td>\n",
       "      <td>https://www.bbc.com/news/articles/cx2wk0k4597o</td>\n",
       "      <td>Three children have not been back to the Belfa...</td>\n",
       "      <td>news</td>\n",
       "    </tr>\n",
       "    <tr>\n",
       "      <th>33076</th>\n",
       "      <td>Celebrations as Wales make history qualifying ...</td>\n",
       "      <td>2024-12-04 00:05:52+00:00</td>\n",
       "      <td>https://www.bbc.com/news/articles/c791nq8nl73o#9</td>\n",
       "      <td>https://www.bbc.com/news/articles/c791nq8nl73o</td>\n",
       "      <td>Wales defeated the Republic of Ireland 2-1 mak...</td>\n",
       "      <td>news</td>\n",
       "    </tr>\n",
       "  </tbody>\n",
       "</table>\n",
       "<p>33077 rows × 6 columns</p>\n",
       "</div>"
      ],
      "text/plain": [
       "                                                   title  \\\n",
       "0      Pisces III submersible: A dramatic underwater ...   \n",
       "1      Prince's original of Nothing Compares 2 U rele...   \n",
       "2                          Grenfell Tower: What happened   \n",
       "3                Trump: I just want to find 11,780 votes   \n",
       "4      Grenfell Tower inquiry: 9 things we now know a...   \n",
       "...                                                  ...   \n",
       "33072  'Pickling a cucumber changed my life' says Tik...   \n",
       "33073   Scottish Budget presents huge challenges for SNP   \n",
       "33074    Three rail firms to be renationalised next year   \n",
       "33075  School tells Muslim girls it’s ‘not safe’ for ...   \n",
       "33076  Celebrations as Wales make history qualifying ...   \n",
       "\n",
       "                        pubDate  \\\n",
       "0     2013-08-30 01:01:55+00:00   \n",
       "1     2018-04-20 11:30:59+00:00   \n",
       "2     2019-10-29 10:27:28+00:00   \n",
       "3     2021-01-03 21:34:33+00:00   \n",
       "4     2021-03-23 02:24:13+00:00   \n",
       "...                         ...   \n",
       "33072 2024-12-03 22:37:51+00:00   \n",
       "33073 2024-12-03 23:00:17+00:00   \n",
       "33074 2024-12-04 00:02:37+00:00   \n",
       "33075 2024-12-04 00:03:58+00:00   \n",
       "33076 2024-12-04 00:05:52+00:00   \n",
       "\n",
       "                                                    guid  \\\n",
       "0           https://www.bbc.co.uk/news/magazine-23862359   \n",
       "1      https://www.bbc.co.uk/news/entertainment-arts-...   \n",
       "2                 https://www.bbc.co.uk/news/uk-40301289   \n",
       "3      https://www.bbc.co.uk/news/world-us-canada-555...   \n",
       "4                 https://www.bbc.co.uk/news/uk-56403431   \n",
       "...                                                  ...   \n",
       "33072   https://www.bbc.com/news/articles/c0lg82zlyp9o#0   \n",
       "33073   https://www.bbc.com/news/articles/ckg1m1j2grpo#9   \n",
       "33074   https://www.bbc.com/news/articles/ceqlnrgjr79o#0   \n",
       "33075   https://www.bbc.com/news/articles/cx2wk0k4597o#9   \n",
       "33076   https://www.bbc.com/news/articles/c791nq8nl73o#9   \n",
       "\n",
       "                                                    link  \\\n",
       "0      https://www.bbc.co.uk/news/magazine-23862359?a...   \n",
       "1      https://www.bbc.co.uk/news/entertainment-arts-...   \n",
       "2      https://www.bbc.co.uk/news/uk-40301289?at_medi...   \n",
       "3      https://www.bbc.co.uk/news/world-us-canada-555...   \n",
       "4      https://www.bbc.co.uk/news/uk-56403431?at_medi...   \n",
       "...                                                  ...   \n",
       "33072     https://www.bbc.com/news/articles/c0lg82zlyp9o   \n",
       "33073     https://www.bbc.com/news/articles/ckg1m1j2grpo   \n",
       "33074     https://www.bbc.com/news/articles/ceqlnrgjr79o   \n",
       "33075     https://www.bbc.com/news/articles/cx2wk0k4597o   \n",
       "33076     https://www.bbc.com/news/articles/c791nq8nl73o   \n",
       "\n",
       "                                             description category  \n",
       "0      Fifty years ago two Britons spent three days t...     news  \n",
       "1      The star's original version of the song was re...     news  \n",
       "2      Images, maps and graphics explaining how the d...     news  \n",
       "3      US President Donald Trump is heard telling Geo...     news  \n",
       "4      A public inquiry has questioned employees of t...     news  \n",
       "...                                                  ...      ...  \n",
       "33072  A film parody actor, a pool cleaner and pickle...     news  \n",
       "33073  Finance Secretary Shona Robison is preparing t...     news  \n",
       "33074  The rail operators will be renationalised in M...     news  \n",
       "33075  Three children have not been back to the Belfa...     news  \n",
       "33076  Wales defeated the Republic of Ireland 2-1 mak...     news  \n",
       "\n",
       "[33077 rows x 6 columns]"
      ]
     },
     "metadata": {},
     "output_type": "display_data"
    },
    {
     "data": {
      "application/vnd.microsoft.datawrangler.viewer.v0+json": {
       "columns": [
        {
         "name": "index",
         "rawType": "int64",
         "type": "integer"
        },
        {
         "name": "title",
         "rawType": "object",
         "type": "string"
        },
        {
         "name": "pubDate",
         "rawType": "datetime64[ns, UTC]",
         "type": "unknown"
        },
        {
         "name": "guid",
         "rawType": "object",
         "type": "string"
        },
        {
         "name": "link",
         "rawType": "object",
         "type": "string"
        },
        {
         "name": "description",
         "rawType": "object",
         "type": "string"
        },
        {
         "name": "category",
         "rawType": "object",
         "type": "string"
        }
       ],
       "conversionMethod": "pd.DataFrame",
       "ref": "125b2640-7c5e-4bc1-bb12-666d8da821f5",
       "rows": [
        [
         "9",
         "Are the Conservatives keeping their election promises?",
         "2022-01-28 12:58:30+00:00",
         "https://www.bbc.co.uk/news/uk-politics-58401767",
         "https://www.bbc.co.uk/news/uk-politics-58401767?at_medium=RSS&at_campaign=KARANGA",
         "The Conservatives made promises on nurses, police, Brexit and immigration in their 2019 manifesto.",
         "news"
        ],
        [
         "13",
         "What are the self-isolation rules in England and the rest of the UK?",
         "2022-02-24 11:05:57+00:00",
         "https://www.bbc.co.uk/news/explainers-54239922",
         "https://www.bbc.co.uk/news/explainers-54239922?at_medium=RSS&at_campaign=KARANGA",
         "People with Covid in England are no longer legally required to self-isolate, although it is still recommended.",
         "news"
        ],
        [
         "14",
         "When will free Covid tests end in England?",
         "2022-02-24 13:06:04+00:00",
         "https://www.bbc.co.uk/news/health-51943612",
         "https://www.bbc.co.uk/news/health-51943612?at_medium=RSS&at_campaign=KARANGA",
         "The government is scrapping free Covid tests for most people in England.",
         "news"
        ],
        [
         "18",
         "Covid boosters: Who will get a fourth dose?",
         "2022-03-02 12:11:20+00:00",
         "https://www.bbc.co.uk/news/health-55045639",
         "https://www.bbc.co.uk/news/health-55045639?at_medium=RSS&at_campaign=KARANGA",
         "Care workers in England won't need to be vaccinated, and some people will get a fourth Covid jab.",
         "news"
        ],
        [
         "21",
         "What are the UK's 'Living with Covid' plans?",
         "2022-03-04 15:48:28+00:00",
         "https://www.bbc.co.uk/news/explainers-52530518",
         "https://www.bbc.co.uk/news/explainers-52530518?at_medium=RSS&at_campaign=KARANGA",
         "All legal Covid restrictions in England have ended, with Wales and Scotland also removing rules.",
         "news"
        ],
        [
         "22",
         "Covid-19 in the UK: How many coronavirus cases are there in my area?",
         "2022-03-04 17:34:34+00:00",
         "https://www.bbc.co.uk/news/uk-51768274",
         "https://www.bbc.co.uk/news/uk-51768274?at_medium=RSS&at_campaign=KARANGA",
         "Explore the data on coronavirus in the UK and find out how many cases there are in your area.",
         "news"
        ],
        [
         "46",
         "Ukraine maps: New agreed ceasefire breaks down in south",
         "2022-03-06 14:10:23+00:00",
         "https://www.bbc.co.uk/news/world-europe-60506682",
         "https://www.bbc.co.uk/news/world-europe-60506682?at_medium=RSS&at_campaign=KARANGA",
         "A ceasefire agreement in the southern city of Mariupol, breaks down a second time, with both sides blaming each other.",
         "news"
        ],
        [
         "48",
         "Ukraine invasion: Military couple marry on the frontline",
         "2022-03-06 19:00:39+00:00",
         "https://www.bbc.co.uk/news/world-europe-60641868",
         "https://www.bbc.co.uk/news/world-europe-60641868?at_medium=RSS&at_campaign=KARANGA",
         "Lesya and Valeri, both civil defence volunteers, tied the knot at a checkpoint near Kyiv.",
         "news"
        ],
        [
         "49",
         "Ukraine invasion: Military couple marry on the front line",
         "2022-03-06 19:00:39+00:00",
         "https://www.bbc.co.uk/news/world-europe-60641868",
         "https://www.bbc.co.uk/news/world-europe-60641868?at_medium=RSS&at_campaign=KARANGA",
         "Lesya and Valeri, both civil defence volunteers, tied the knot at a check-point near Kyiv.",
         "news"
        ],
        [
         "63",
         "Ukraine: Irish medical student 'blocking out dangers' in Sumy",
         "2022-03-07 06:59:12+00:00",
         "https://www.bbc.co.uk/news/world-europe-60638895",
         "https://www.bbc.co.uk/news/world-europe-60638895?at_medium=RSS&at_campaign=KARANGA",
         "A 19-year-old Irish woman is among hundreds of international students taking cover in Sumy.",
         "news"
        ],
        [
         "67",
         "Ukraine conflict: Oil price soars to highest level since 2008",
         "2022-03-07 08:15:53+00:00",
         "https://www.bbc.co.uk/news/business-60642786",
         "https://www.bbc.co.uk/news/business-60642786?at_medium=RSS&at_campaign=KARANGA",
         "Consumers are feeling the impact of higher energy costs as fuel prices and household bills jump.",
         "news"
        ],
        [
         "68",
         "Ukraine war: PM to hold talks with world leaders on further sanctions",
         "2022-03-07 08:33:29+00:00",
         "https://www.bbc.co.uk/news/uk-60642926",
         "https://www.bbc.co.uk/news/uk-60642926?at_medium=RSS&at_campaign=KARANGA",
         "Boris Johnson is to meet the Canadian and Dutch PMs, as MPs debate new laws targeting oligarchs.",
         "news"
        ],
        [
         "70",
         "One dead after Scottish trawler capsizes off Norway",
         "2022-03-07 08:59:37+00:00",
         "https://www.bbc.co.uk/news/uk-scotland-60645898",
         "https://www.bbc.co.uk/news/uk-scotland-60645898?at_medium=RSS&at_campaign=KARANGA",
         "Seven crew members were rescued after the Peterhead-registered Njord got into difficulty in the North Sea.",
         "news"
        ],
        [
         "71",
         "Shane Warne: Australian cricket legend died from natural causes - police",
         "2022-03-07 09:57:00+00:00",
         "https://www.bbc.co.uk/news/world-asia-60645939",
         "https://www.bbc.co.uk/news/world-asia-60645939?at_medium=RSS&at_campaign=KARANGA",
         "Thai police say there's no sign of foul play in the cricketer's death while on holiday on Koh Samui.",
         "news"
        ],
        [
         "72",
         "How many refugees have fled Ukraine and where are they going?",
         "2022-03-07 10:04:55+00:00",
         "https://www.bbc.co.uk/news/world-60555472",
         "https://www.bbc.co.uk/news/world-60555472?at_medium=RSS&at_campaign=KARANGA",
         "The EU says up to four million people may try to escape the war in Ukraine.",
         "news"
        ],
        [
         "73",
         "Ukraine conflict: Oil and gas prices soar as shares plunge",
         "2022-03-07 10:10:16+00:00",
         "https://www.bbc.co.uk/news/business-60642786",
         "https://www.bbc.co.uk/news/business-60642786?at_medium=RSS&at_campaign=KARANGA",
         "Investors fear global economic shock as West considers ban on buying Russian energy.",
         "news"
        ],
        [
         "74",
         "A small Ukrainian city becomes a waypoint for thousands on the move",
         "2022-03-07 10:53:21+00:00",
         "https://www.bbc.co.uk/news/world-europe-60645126",
         "https://www.bbc.co.uk/news/world-europe-60645126?at_medium=RSS&at_campaign=KARANGA",
         "At the central train station in Lviv, many thousands arrive after fleeing bombed out cities further east.",
         "news"
        ],
        [
         "75",
         "Chaos and tears as thousands try to catch a train out of Ukraine",
         "2022-03-07 10:53:21+00:00",
         "https://www.bbc.co.uk/news/world-europe-60645126",
         "https://www.bbc.co.uk/news/world-europe-60645126?at_medium=RSS&at_campaign=KARANGA",
         "At the central train station in Lviv, many thousands arrive after fleeing bombed out cities further east.",
         "news"
        ],
        [
         "76",
         "Warne died from natural causes, Thai police say",
         "2022-03-07 11:26:47+00:00",
         "https://www.bbc.co.uk/news/world-asia-60645939",
         "https://www.bbc.co.uk/news/world-asia-60645939?at_medium=RSS&at_campaign=KARANGA",
         "Thai police say there's no sign of foul play in the cricketer's death while on holiday on Koh Samui.",
         "news"
        ],
        [
         "77",
         "Ukraine conflict: Shares slide as oil and gas prices soar",
         "2022-03-07 11:32:38+00:00",
         "https://www.bbc.co.uk/news/business-60642786",
         "https://www.bbc.co.uk/news/business-60642786?at_medium=RSS&at_campaign=KARANGA",
         "Investors fear global economic shock, with rising petrol and energy bills causing more pain for households.",
         "news"
        ],
        [
         "78",
         "Ukraine maps: Ukraine says Russian ceasefire offer \"immoral\"",
         "2022-03-07 12:34:23+00:00",
         "https://www.bbc.co.uk/news/world-europe-60506682",
         "https://www.bbc.co.uk/news/world-europe-60506682?at_medium=RSS&at_campaign=KARANGA",
         "Russia says it will offer civilians an evacuation route, but only to territory in Russia and Belarus.",
         "news"
        ],
        [
         "81",
         "One dead after trawler which sailed from Peterhead capsizes off Norway",
         "2022-03-07 15:26:57+00:00",
         "https://www.bbc.co.uk/news/uk-scotland-60645898",
         "https://www.bbc.co.uk/news/uk-scotland-60645898?at_medium=RSS&at_campaign=KARANGA",
         "Three crew were flown to hospital after being found on the keel of the boat which sailed from Peterhead.",
         "news"
        ],
        [
         "83",
         "Ukraine: Irish student makes fresh escape attempt",
         "2022-03-07 15:44:10+00:00",
         "https://www.bbc.co.uk/news/world-europe-60638895",
         "https://www.bbc.co.uk/news/world-europe-60638895?at_medium=RSS&at_campaign=KARANGA",
         "A 19-year-old Irish woman living in Sumy is trying to leave the country amid Russian attacks.",
         "news"
        ],
        [
         "84",
         "Ukraine conflict: Petrol at fresh record as oil and gas prices soar",
         "2022-03-07 15:47:46+00:00",
         "https://www.bbc.co.uk/news/business-60642786",
         "https://www.bbc.co.uk/news/business-60642786?at_medium=RSS&at_campaign=KARANGA",
         "Investors fear a global economic shock, with rising fuel bills causing more pain for households.",
         "news"
        ],
        [
         "85",
         "Ukraine war: PM holds talks with Canadian and Dutch PMs over more sanctions",
         "2022-03-07 15:49:31+00:00",
         "https://www.bbc.co.uk/news/uk-60642926",
         "https://www.bbc.co.uk/news/uk-60642926?at_medium=RSS&at_campaign=KARANGA",
         "Boris Johnson calls for more support for Ukraine, amid scrutiny of the UK's refugee policy.",
         "news"
        ],
        [
         "88",
         "Lynda Baron: Open All Hours actress dies aged 82",
         "2022-03-07 16:04:18+00:00",
         "https://www.bbc.co.uk/news/entertainment-arts-60647760",
         "https://www.bbc.co.uk/news/entertainment-arts-60647760?at_medium=RSS&at_campaign=KARANGA",
         "The actress played Nurse Gladys Emmanuel opposite Ronnie Barker and Sir David Jason in the sitcom.",
         "news"
        ],
        [
         "94",
         "Lynda Baron: Open All Hours and Come Outside actress dies aged 82",
         "2022-03-07 17:35:18+00:00",
         "https://www.bbc.co.uk/news/entertainment-arts-60647760",
         "https://www.bbc.co.uk/news/entertainment-arts-60647760?at_medium=RSS&at_campaign=KARANGA",
         "The actress played Nurse Gladys Emmanuel in the sitcom, and appeared in Come Outside and EastEnders.",
         "news"
        ],
        [
         "100",
         "Ukraine war: PM calls for 'step-by-step' move from Russian fuel",
         "2022-03-07 20:07:19+00:00",
         "https://www.bbc.co.uk/news/uk-60642926",
         "https://www.bbc.co.uk/news/uk-60642926?at_medium=RSS&at_campaign=KARANGA",
         "Meanwhile, the German chancellor says there is no alternative to Russian supplies at the moment.",
         "news"
        ],
        [
         "124",
         "Ukraine war: 300 Ukrainians get visas via new scheme, says UK",
         "2022-03-08 07:05:47+00:00",
         "https://www.bbc.co.uk/news/uk-60655788",
         "https://www.bbc.co.uk/news/uk-60655788?at_medium=RSS&at_campaign=KARANGA",
         "It is an increase on the 50 previously announced, and thousands more are being processed.",
         "news"
        ],
        [
         "128",
         "Ukraine war: UK can and will do more for refugees - minister",
         "2022-03-08 08:23:59+00:00",
         "https://www.bbc.co.uk/news/uk-60655788",
         "https://www.bbc.co.uk/news/uk-60655788?at_medium=RSS&at_campaign=KARANGA",
         "The UK has granted visas to 300 refugees fleeing the war in Ukraine so far, the Home Office says.",
         "news"
        ],
        [
         "136",
         "Ukraine war: How reliant is the world on Russia for oil and gas?",
         "2022-03-08 18:00:43+00:00",
         "https://www.bbc.co.uk/news/58888451",
         "https://www.bbc.co.uk/news/58888451?at_medium=RSS&at_campaign=KARANGA",
         "Russia says it may cut off gas supplies if countries decided to ban Russian oil.",
         "news"
        ],
        [
         "191",
         "What is a war crime, and could Putin be prosecuted over Ukraine?",
         "2022-03-10 12:14:57+00:00",
         "https://www.bbc.co.uk/news/world-60690688",
         "https://www.bbc.co.uk/news/world-60690688?at_medium=RSS&at_campaign=KARANGA",
         "If Russia has carried out war crimes in Ukraine, how could Putin or senior officers be brought to justice?",
         "news"
        ],
        [
         "198",
         "Ukraine: What sanctions are being imposed on Russia?",
         "2022-03-10 17:16:09+00:00",
         "https://www.bbc.co.uk/news/world-europe-60125659",
         "https://www.bbc.co.uk/news/world-europe-60125659?at_medium=RSS&at_campaign=KARANGA",
         "Western nations have imposed severe sanctions on Russia over its invasion of Ukraine.",
         "news"
        ],
        [
         "205",
         "Watch: Our correspondent on the front line, with Ukraine’s troops",
         "2022-03-10 22:47:46+00:00",
         "https://www.bbc.co.uk/news/world-europe-60699588",
         "https://www.bbc.co.uk/news/world-europe-60699588?at_medium=RSS&at_campaign=KARANGA",
         "The BBC spent a week with Ukrainian forces in Kharkiv as they fight to stop a further Russian advance.",
         "news"
        ],
        [
         "206",
         "Watch: Our correspondent goes into no-man's land with the Ukrainian army",
         "2022-03-10 22:47:46+00:00",
         "https://www.bbc.co.uk/news/world-europe-60699588",
         "https://www.bbc.co.uk/news/world-europe-60699588?at_medium=RSS&at_campaign=KARANGA",
         "The BBC spent a week with Ukrainian forces in Kharkiv as they fight to stop a further Russian advance.",
         "news"
        ],
        [
         "212",
         "Ukraine conflict: Growing numbers of firms pull back from Russia",
         "2022-03-11 00:52:35+00:00",
         "https://www.bbc.co.uk/news/business-60571133",
         "https://www.bbc.co.uk/news/business-60571133?at_medium=RSS&at_campaign=KARANGA",
         "Reputational risk and practical difficulties are making it harder to do business in the country.",
         "news"
        ],
        [
         "220",
         "Pregnancy loss: 'I just don't think we're being listened to'",
         "2022-03-11 04:26:46+00:00",
         "https://www.bbc.co.uk/news/world-us-canada-60698394",
         "https://www.bbc.co.uk/news/world-us-canada-60698394?at_medium=RSS&at_campaign=KARANGA",
         "Four black women explain their devastating experiences with pregnancy loss in US healthcare system.",
         "news"
        ],
        [
         "221",
         "'I just don't think we're being listened to'",
         "2022-03-11 04:26:46+00:00",
         "https://www.bbc.co.uk/news/world-us-canada-60698394",
         "https://www.bbc.co.uk/news/world-us-canada-60698394?at_medium=RSS&at_campaign=KARANGA",
         "The BBC spoke to four black women about their experiences with pregnancy loss in the US healthcare system.",
         "news"
        ],
        [
         "230",
         "What sanctions are being imposed on Russia over Ukraine invasion?",
         "2022-03-11 15:12:07+00:00",
         "https://www.bbc.co.uk/news/world-europe-60125659",
         "https://www.bbc.co.uk/news/world-europe-60125659?at_medium=RSS&at_campaign=KARANGA",
         "Western nations have imposed severe sanctions on Russia over its invasion of Ukraine.",
         "news"
        ],
        [
         "245",
         "Which companies are pulling out of Russia?",
         "2022-03-11 21:44:54+00:00",
         "https://www.bbc.co.uk/news/business-60571133",
         "https://www.bbc.co.uk/news/business-60571133?at_medium=RSS&at_campaign=KARANGA",
         "Reputational risk and practical difficulties means the exodus of firms is growing but some remain.",
         "news"
        ],
        [
         "269",
         "Ukraine maps: At-a-glance guide to the Russia war",
         "2022-03-12 17:28:30+00:00",
         "https://www.bbc.co.uk/news/world-europe-60506682",
         "https://www.bbc.co.uk/news/world-europe-60506682?at_medium=RSS&at_campaign=KARANGA",
         "Russian troops have expanded their offensive as they continue attempts to cut off the capital Kyiv.",
         "news"
        ],
        [
         "276",
         "War in Ukraine: Uni to uniform - Ukraine's new teenage army recruits",
         "2022-03-12 23:57:22+00:00",
         "https://www.bbc.co.uk/news/world-europe-60724560",
         "https://www.bbc.co.uk/news/world-europe-60724560?at_medium=RSS&at_campaign=KARANGA",
         "Young volunteers swap their studies for assault rifles as they prepare to defend Kyiv from Russian forces.",
         "news"
        ],
        [
         "277",
         "War in Ukraine: 'No one wants to die' - meeting Ukraine's teenage soldiers",
         "2022-03-12 23:57:22+00:00",
         "https://www.bbc.co.uk/news/world-europe-60724560",
         "https://www.bbc.co.uk/news/world-europe-60724560?at_medium=RSS&at_campaign=KARANGA",
         "Young volunteers swap their studies for assault rifles as they prepare to defend Kyiv from Russian forces.",
         "news"
        ],
        [
         "285",
         "Bafta Awards 2022: Stars prepare to return to in-person ceremony",
         "2022-03-13 00:54:17+00:00",
         "https://www.bbc.co.uk/news/entertainment-arts-60675263",
         "https://www.bbc.co.uk/news/entertainment-arts-60675263?at_medium=RSS&at_campaign=KARANGA",
         "Australian star Rebel Wilson will host the full-capacity ceremony at London's Royal Albert Hall.",
         "news"
        ],
        [
         "302",
         "Bafta Film Awards: Benedict Cumberbatch's The Power of the Dog wins top prize",
         "2022-03-13 21:04:30+00:00",
         "https://www.bbc.co.uk/news/entertainment-arts-60675263",
         "https://www.bbc.co.uk/news/entertainment-arts-60675263?at_medium=RSS&at_campaign=KARANGA",
         "Benedict Cumberbatch wears a Ukraine badge to the ceremony and says he hopes to take in a refugee.",
         "news"
        ],
        [
         "321",
         "'I thought I had Covid but it was terminal lung cancer'",
         "2022-03-14 06:04:45+00:00",
         "https://www.bbc.co.uk/news/uk-wales-60696837",
         "https://www.bbc.co.uk/news/uk-wales-60696837?at_medium=RSS&at_campaign=KARANGA",
         "Doctors call for targeted lung cancer screening to catch cases early and reduce deaths by 20%.",
         "news"
        ],
        [
         "326",
         "Cancer: 'I thought I had Covid but it was terminal lung cancer'",
         "2022-03-14 11:51:25+00:00",
         "https://www.bbc.co.uk/news/uk-wales-60696837",
         "https://www.bbc.co.uk/news/uk-wales-60696837?at_medium=RSS&at_campaign=KARANGA",
         "Doctors call for targeted lung cancer screening to catch cases early and reduce deaths by 20%.",
         "news"
        ],
        [
         "334",
         "How to sponsor Ukrainian refugees and offer them a UK home",
         "2022-03-14 17:55:20+00:00",
         "https://www.bbc.co.uk/news/60735121",
         "https://www.bbc.co.uk/news/60735121?at_medium=RSS&at_campaign=KARANGA",
         "The government has announced details of the \"Homes For Ukraine\" scheme",
         "news"
        ],
        [
         "342",
         "Covid: Generation of musicians 'devastated' by restrictions",
         "2022-03-14 22:57:12+00:00",
         "https://www.bbc.co.uk/news/uk-wales-60662347",
         "https://www.bbc.co.uk/news/uk-wales-60662347?at_medium=RSS&at_campaign=KARANGA",
         "Only Boys Aloud's founder says people lose the \"freedom to let rip and sing\" over Zoom.",
         "news"
        ],
        [
         "359",
         "Covid: People scared to sing together after lockdowns",
         "2022-03-15 06:04:45+00:00",
         "https://www.bbc.co.uk/news/uk-wales-60662347",
         "https://www.bbc.co.uk/news/uk-wales-60662347?at_medium=RSS&at_campaign=KARANGA",
         "Only Boys Aloud's founder says people lose the \"freedom to let rip and sing\" over Zoom.",
         "news"
        ]
       ],
       "shape": {
        "columns": 6,
        "rows": 2953
       }
      },
      "text/html": [
       "<div>\n",
       "<style scoped>\n",
       "    .dataframe tbody tr th:only-of-type {\n",
       "        vertical-align: middle;\n",
       "    }\n",
       "\n",
       "    .dataframe tbody tr th {\n",
       "        vertical-align: top;\n",
       "    }\n",
       "\n",
       "    .dataframe thead th {\n",
       "        text-align: right;\n",
       "    }\n",
       "</style>\n",
       "<table border=\"1\" class=\"dataframe\">\n",
       "  <thead>\n",
       "    <tr style=\"text-align: right;\">\n",
       "      <th></th>\n",
       "      <th>title</th>\n",
       "      <th>pubDate</th>\n",
       "      <th>guid</th>\n",
       "      <th>link</th>\n",
       "      <th>description</th>\n",
       "      <th>category</th>\n",
       "    </tr>\n",
       "  </thead>\n",
       "  <tbody>\n",
       "    <tr>\n",
       "      <th>9</th>\n",
       "      <td>Are the Conservatives keeping their election p...</td>\n",
       "      <td>2022-01-28 12:58:30+00:00</td>\n",
       "      <td>https://www.bbc.co.uk/news/uk-politics-58401767</td>\n",
       "      <td>https://www.bbc.co.uk/news/uk-politics-5840176...</td>\n",
       "      <td>The Conservatives made promises on nurses, pol...</td>\n",
       "      <td>news</td>\n",
       "    </tr>\n",
       "    <tr>\n",
       "      <th>13</th>\n",
       "      <td>What are the self-isolation rules in England a...</td>\n",
       "      <td>2022-02-24 11:05:57+00:00</td>\n",
       "      <td>https://www.bbc.co.uk/news/explainers-54239922</td>\n",
       "      <td>https://www.bbc.co.uk/news/explainers-54239922...</td>\n",
       "      <td>People with Covid in England are no longer leg...</td>\n",
       "      <td>news</td>\n",
       "    </tr>\n",
       "    <tr>\n",
       "      <th>14</th>\n",
       "      <td>When will free Covid tests end in England?</td>\n",
       "      <td>2022-02-24 13:06:04+00:00</td>\n",
       "      <td>https://www.bbc.co.uk/news/health-51943612</td>\n",
       "      <td>https://www.bbc.co.uk/news/health-51943612?at_...</td>\n",
       "      <td>The government is scrapping free Covid tests f...</td>\n",
       "      <td>news</td>\n",
       "    </tr>\n",
       "    <tr>\n",
       "      <th>18</th>\n",
       "      <td>Covid boosters: Who will get a fourth dose?</td>\n",
       "      <td>2022-03-02 12:11:20+00:00</td>\n",
       "      <td>https://www.bbc.co.uk/news/health-55045639</td>\n",
       "      <td>https://www.bbc.co.uk/news/health-55045639?at_...</td>\n",
       "      <td>Care workers in England won't need to be vacci...</td>\n",
       "      <td>news</td>\n",
       "    </tr>\n",
       "    <tr>\n",
       "      <th>21</th>\n",
       "      <td>What are the UK's 'Living with Covid' plans?</td>\n",
       "      <td>2022-03-04 15:48:28+00:00</td>\n",
       "      <td>https://www.bbc.co.uk/news/explainers-52530518</td>\n",
       "      <td>https://www.bbc.co.uk/news/explainers-52530518...</td>\n",
       "      <td>All legal Covid restrictions in England have e...</td>\n",
       "      <td>news</td>\n",
       "    </tr>\n",
       "    <tr>\n",
       "      <th>...</th>\n",
       "      <td>...</td>\n",
       "      <td>...</td>\n",
       "      <td>...</td>\n",
       "      <td>...</td>\n",
       "      <td>...</td>\n",
       "      <td>...</td>\n",
       "    </tr>\n",
       "    <tr>\n",
       "      <th>30914</th>\n",
       "      <td>'I watched porn morning, noon and night'</td>\n",
       "      <td>2024-11-29 21:18:13+00:00</td>\n",
       "      <td>https://www.bbc.com/news/articles/cg57r337rvzo#0</td>\n",
       "      <td>https://www.bbc.com/news/articles/cg57r337rvzo</td>\n",
       "      <td>Excessive masturbation and exhaustion - what h...</td>\n",
       "      <td>news</td>\n",
       "    </tr>\n",
       "    <tr>\n",
       "      <th>30957</th>\n",
       "      <td>Holidaymaker killed in Turkey lift-shaft incident</td>\n",
       "      <td>2024-12-01 15:32:52+00:00</td>\n",
       "      <td>https://www.bbc.com/news/articles/c1knkx1z8zgo#8</td>\n",
       "      <td>https://www.bbc.com/news/articles/c1knkx1z8zgo</td>\n",
       "      <td>Tyler Kerry was \"a young man full of personali...</td>\n",
       "      <td>news</td>\n",
       "    </tr>\n",
       "    <tr>\n",
       "      <th>30958</th>\n",
       "      <td>British man killed on holiday in Turkey lift-s...</td>\n",
       "      <td>2024-12-01 15:32:52+00:00</td>\n",
       "      <td>https://www.bbc.com/news/articles/c1knkx1z8zgo#0</td>\n",
       "      <td>https://www.bbc.com/news/articles/c1knkx1z8zgo</td>\n",
       "      <td>Tyler Kerry was \"a young man full of personali...</td>\n",
       "      <td>news</td>\n",
       "    </tr>\n",
       "    <tr>\n",
       "      <th>30972</th>\n",
       "      <td>Final seats to be filled in Irish general elec...</td>\n",
       "      <td>2024-12-02 00:08:08+00:00</td>\n",
       "      <td>https://www.bbc.com/news/articles/cpdnlv8n758o#8</td>\n",
       "      <td>https://www.bbc.com/news/articles/cpdnlv8n758o</td>\n",
       "      <td>With all 43 constituencies' first counts in, F...</td>\n",
       "      <td>news</td>\n",
       "    </tr>\n",
       "    <tr>\n",
       "      <th>30999</th>\n",
       "      <td>Fianna Fáil emerges as largest party in Irish ...</td>\n",
       "      <td>2024-12-02 22:59:17+00:00</td>\n",
       "      <td>https://www.bbc.com/news/articles/cpdnlv8n758o#0</td>\n",
       "      <td>https://www.bbc.com/news/articles/cpdnlv8n758o</td>\n",
       "      <td>The party has won 48 seats, with Sinn Féin sec...</td>\n",
       "      <td>news</td>\n",
       "    </tr>\n",
       "  </tbody>\n",
       "</table>\n",
       "<p>2953 rows × 6 columns</p>\n",
       "</div>"
      ],
      "text/plain": [
       "                                                   title  \\\n",
       "9      Are the Conservatives keeping their election p...   \n",
       "13     What are the self-isolation rules in England a...   \n",
       "14            When will free Covid tests end in England?   \n",
       "18           Covid boosters: Who will get a fourth dose?   \n",
       "21          What are the UK's 'Living with Covid' plans?   \n",
       "...                                                  ...   \n",
       "30914           'I watched porn morning, noon and night'   \n",
       "30957  Holidaymaker killed in Turkey lift-shaft incident   \n",
       "30958  British man killed on holiday in Turkey lift-s...   \n",
       "30972  Final seats to be filled in Irish general elec...   \n",
       "30999  Fianna Fáil emerges as largest party in Irish ...   \n",
       "\n",
       "                        pubDate  \\\n",
       "9     2022-01-28 12:58:30+00:00   \n",
       "13    2022-02-24 11:05:57+00:00   \n",
       "14    2022-02-24 13:06:04+00:00   \n",
       "18    2022-03-02 12:11:20+00:00   \n",
       "21    2022-03-04 15:48:28+00:00   \n",
       "...                         ...   \n",
       "30914 2024-11-29 21:18:13+00:00   \n",
       "30957 2024-12-01 15:32:52+00:00   \n",
       "30958 2024-12-01 15:32:52+00:00   \n",
       "30972 2024-12-02 00:08:08+00:00   \n",
       "30999 2024-12-02 22:59:17+00:00   \n",
       "\n",
       "                                                   guid  \\\n",
       "9       https://www.bbc.co.uk/news/uk-politics-58401767   \n",
       "13       https://www.bbc.co.uk/news/explainers-54239922   \n",
       "14           https://www.bbc.co.uk/news/health-51943612   \n",
       "18           https://www.bbc.co.uk/news/health-55045639   \n",
       "21       https://www.bbc.co.uk/news/explainers-52530518   \n",
       "...                                                 ...   \n",
       "30914  https://www.bbc.com/news/articles/cg57r337rvzo#0   \n",
       "30957  https://www.bbc.com/news/articles/c1knkx1z8zgo#8   \n",
       "30958  https://www.bbc.com/news/articles/c1knkx1z8zgo#0   \n",
       "30972  https://www.bbc.com/news/articles/cpdnlv8n758o#8   \n",
       "30999  https://www.bbc.com/news/articles/cpdnlv8n758o#0   \n",
       "\n",
       "                                                    link  \\\n",
       "9      https://www.bbc.co.uk/news/uk-politics-5840176...   \n",
       "13     https://www.bbc.co.uk/news/explainers-54239922...   \n",
       "14     https://www.bbc.co.uk/news/health-51943612?at_...   \n",
       "18     https://www.bbc.co.uk/news/health-55045639?at_...   \n",
       "21     https://www.bbc.co.uk/news/explainers-52530518...   \n",
       "...                                                  ...   \n",
       "30914     https://www.bbc.com/news/articles/cg57r337rvzo   \n",
       "30957     https://www.bbc.com/news/articles/c1knkx1z8zgo   \n",
       "30958     https://www.bbc.com/news/articles/c1knkx1z8zgo   \n",
       "30972     https://www.bbc.com/news/articles/cpdnlv8n758o   \n",
       "30999     https://www.bbc.com/news/articles/cpdnlv8n758o   \n",
       "\n",
       "                                             description category  \n",
       "9      The Conservatives made promises on nurses, pol...     news  \n",
       "13     People with Covid in England are no longer leg...     news  \n",
       "14     The government is scrapping free Covid tests f...     news  \n",
       "18     Care workers in England won't need to be vacci...     news  \n",
       "21     All legal Covid restrictions in England have e...     news  \n",
       "...                                                  ...      ...  \n",
       "30914  Excessive masturbation and exhaustion - what h...     news  \n",
       "30957  Tyler Kerry was \"a young man full of personali...     news  \n",
       "30958  Tyler Kerry was \"a young man full of personali...     news  \n",
       "30972  With all 43 constituencies' first counts in, F...     news  \n",
       "30999  The party has won 48 seats, with Sinn Féin sec...     news  \n",
       "\n",
       "[2953 rows x 6 columns]"
      ]
     },
     "metadata": {},
     "output_type": "display_data"
    },
    {
     "data": {
      "application/vnd.microsoft.datawrangler.viewer.v0+json": {
       "columns": [
        {
         "name": "index",
         "rawType": "int64",
         "type": "integer"
        },
        {
         "name": "title",
         "rawType": "object",
         "type": "string"
        },
        {
         "name": "pubDate",
         "rawType": "datetime64[ns, UTC]",
         "type": "unknown"
        },
        {
         "name": "guid",
         "rawType": "object",
         "type": "string"
        },
        {
         "name": "link",
         "rawType": "object",
         "type": "string"
        },
        {
         "name": "description",
         "rawType": "object",
         "type": "string"
        },
        {
         "name": "category",
         "rawType": "object",
         "type": "string"
        }
       ],
       "conversionMethod": "pd.DataFrame",
       "ref": "e9b3138b-6350-4c54-852f-00e42058823f",
       "rows": [
        [
         "0",
         "Pisces III submersible: A dramatic underwater rescue",
         "2013-08-30 01:01:55+00:00",
         "https://www.bbc.co.uk/news/magazine-23862359",
         "https://www.bbc.co.uk/news/magazine-23862359?at_medium=RSS&at_campaign=KARANGA",
         "Fifty years ago two Britons spent three days trapped in a submersible at the bottom of the seabed while a dramatic rescue operation was under way.",
         "news"
        ],
        [
         "1",
         "Prince's original of Nothing Compares 2 U released",
         "2018-04-20 11:30:59+00:00",
         "https://www.bbc.co.uk/news/entertainment-arts-43836755",
         "https://www.bbc.co.uk/news/entertainment-arts-43836755?at_medium=RSS&at_campaign=KARANGA",
         "The star's original version of the song was recorded six years before Sinead O'Connor made it a hit.",
         "news"
        ],
        [
         "2",
         "Grenfell Tower: What happened",
         "2019-10-29 10:27:28+00:00",
         "https://www.bbc.co.uk/news/uk-40301289",
         "https://www.bbc.co.uk/news/uk-40301289?at_medium=RSS&at_campaign=KARANGA",
         "Images, maps and graphics explaining how the devastating fire at Grenfell Tower may have started and how it spread.",
         "news"
        ],
        [
         "3",
         "Trump: I just want to find 11,780 votes",
         "2021-01-03 21:34:33+00:00",
         "https://www.bbc.co.uk/news/world-us-canada-55524676",
         "https://www.bbc.co.uk/news/world-us-canada-55524676?at_medium=RSS&at_campaign=KARANGA",
         "US President Donald Trump is heard telling Georgia's top election official to \"find\" enough votes to overturn the election, in a recording released by The Washington Post.",
         "news"
        ],
        [
         "4",
         "Grenfell Tower inquiry: 9 things we now know about the cladding",
         "2021-03-23 02:24:13+00:00",
         "https://www.bbc.co.uk/news/uk-56403431",
         "https://www.bbc.co.uk/news/uk-56403431?at_medium=RSS&at_campaign=KARANGA",
         "A public inquiry has questioned employees of the metals firm that supplied cladding for Grenfell.",
         "news"
        ],
        [
         "5",
         "Tips on how to save energy at home and help the planet",
         "2021-10-20 10:58:26+00:00",
         "https://www.bbc.co.uk/news/uk-58967580",
         "https://www.bbc.co.uk/news/uk-58967580?at_medium=RSS&at_campaign=KARANGA",
         "What can homeowners do to reduce their energy consumption?",
         "news"
        ],
        [
         "6",
         "What do scientists actually want?",
         "2021-11-09 01:21:41+00:00",
         "https://www.bbc.co.uk/news/science-environment-59212185",
         "https://www.bbc.co.uk/news/science-environment-59212185?at_medium=RSS&at_campaign=KARANGA",
         "We asked climate experts from around the world what they want to see agreed at COP26 this week.",
         "news"
        ],
        [
         "7",
         "COP26: What was agreed at the Glasgow climate conference?",
         "2021-11-15 13:28:34+00:00",
         "https://www.bbc.co.uk/news/science-environment-56901261",
         "https://www.bbc.co.uk/news/science-environment-56901261?at_medium=RSS&at_campaign=KARANGA",
         "A crucial climate change summit has been held in the UK which could change our lives.",
         "news"
        ],
        [
         "8",
         "Covid: How to look after yourself at home",
         "2022-01-18 12:46:56+00:00",
         "https://www.bbc.co.uk/news/health-59683083",
         "https://www.bbc.co.uk/news/health-59683083?at_medium=RSS&at_campaign=KARANGA",
         "What can you expect if you have Covid, and when should you get extra help?",
         "news"
        ],
        [
         "9",
         "Are the Conservatives keeping their election promises?",
         "2022-01-28 12:58:30+00:00",
         "https://www.bbc.co.uk/news/uk-politics-58401767",
         "https://www.bbc.co.uk/news/uk-politics-58401767?at_medium=RSS&at_campaign=KARANGA",
         "The Conservatives made promises on nurses, police, Brexit and immigration in their 2019 manifesto.",
         "news"
        ],
        [
         "10",
         "Platinum Jubilee: Queen's life in pictures",
         "2022-02-06 13:27:04+00:00",
         "https://www.bbc.co.uk/news/in-pictures-60279300",
         "https://www.bbc.co.uk/news/in-pictures-60279300?at_medium=RSS&at_campaign=KARANGA",
         "As the Queen marks 70 years on the throne, we present an image from every year of her life.",
         "news"
        ],
        [
         "11",
         "What Covid tests do I still need to travel abroad?",
         "2022-02-11 09:47:28+00:00",
         "https://www.bbc.co.uk/news/explainers-52544307",
         "https://www.bbc.co.uk/news/explainers-52544307?at_medium=RSS&at_campaign=KARANGA",
         "From Friday, fully vaccinated people travelling to the UK no longer have to take any Covid tests.",
         "news"
        ],
        [
         "12",
         "How will the vulnerable be protected from Covid? And other questions",
         "2022-02-22 15:25:22+00:00",
         "https://www.bbc.co.uk/news/world-asia-china-51176409",
         "https://www.bbc.co.uk/news/world-asia-china-51176409?at_medium=RSS&at_campaign=KARANGA",
         "The government has announced the end of all Covid restrictions in England.",
         "news"
        ],
        [
         "13",
         "What are the self-isolation rules in England and the rest of the UK?",
         "2022-02-24 11:05:57+00:00",
         "https://www.bbc.co.uk/news/explainers-54239922",
         "https://www.bbc.co.uk/news/explainers-54239922?at_medium=RSS&at_campaign=KARANGA",
         "People with Covid in England are no longer legally required to self-isolate, although it is still recommended.",
         "news"
        ],
        [
         "14",
         "When will free Covid tests end in England?",
         "2022-02-24 13:06:04+00:00",
         "https://www.bbc.co.uk/news/health-51943612",
         "https://www.bbc.co.uk/news/health-51943612?at_medium=RSS&at_campaign=KARANGA",
         "The government is scrapping free Covid tests for most people in England.",
         "news"
        ],
        [
         "15",
         "Covid: Five things we still need to keep an eye on",
         "2022-02-26 00:50:33+00:00",
         "https://www.bbc.co.uk/news/health-60494159",
         "https://www.bbc.co.uk/news/health-60494159?at_medium=RSS&at_campaign=KARANGA",
         "The UK is moving to its \"living with Covid\" phase, but the virus still needs to be watched closely.",
         "news"
        ],
        [
         "16",
         "Covid map: Coronavirus cases, deaths, vaccinations by country",
         "2022-02-28 12:08:00+00:00",
         "https://www.bbc.co.uk/news/world-51235105",
         "https://www.bbc.co.uk/news/world-51235105?at_medium=RSS&at_campaign=KARANGA",
         "Key maps and charts explaining how the virus has spread around the world.",
         "news"
        ],
        [
         "17",
         "What are the latest rules for face coverings and masks?",
         "2022-03-01 09:53:08+00:00",
         "https://www.bbc.co.uk/news/health-51205344",
         "https://www.bbc.co.uk/news/health-51205344?at_medium=RSS&at_campaign=KARANGA",
         "Rules around face coverings are easing across the UK but they are still required in some settings.",
         "news"
        ],
        [
         "18",
         "Covid boosters: Who will get a fourth dose?",
         "2022-03-02 12:11:20+00:00",
         "https://www.bbc.co.uk/news/health-55045639",
         "https://www.bbc.co.uk/news/health-55045639?at_medium=RSS&at_campaign=KARANGA",
         "Care workers in England won't need to be vaccinated, and some people will get a fourth Covid jab.",
         "news"
        ],
        [
         "19",
         "Economic Crime Bill: What is it and will it find Putin's loot?",
         "2022-03-03 17:17:00+00:00",
         "https://www.bbc.co.uk/news/uk-60579997",
         "https://www.bbc.co.uk/news/uk-60579997?at_medium=RSS&at_campaign=KARANGA",
         "Will the Economic Crime Bill really tackle Putin's money - or is it too little, too late?",
         "news"
        ],
        [
         "20",
         "Ukraine war: Why Kherson and Mariupol are key to Russian success",
         "2022-03-04 12:54:25+00:00",
         "https://www.bbc.co.uk/news/world-europe-60604876",
         "https://www.bbc.co.uk/news/world-europe-60604876?at_medium=RSS&at_campaign=KARANGA",
         "There are both strategic and historical reasons why the offensive in southern Ukraine is vital for Russia.",
         "news"
        ],
        [
         "21",
         "What are the UK's 'Living with Covid' plans?",
         "2022-03-04 15:48:28+00:00",
         "https://www.bbc.co.uk/news/explainers-52530518",
         "https://www.bbc.co.uk/news/explainers-52530518?at_medium=RSS&at_campaign=KARANGA",
         "All legal Covid restrictions in England have ended, with Wales and Scotland also removing rules.",
         "news"
        ],
        [
         "22",
         "Covid-19 in the UK: How many coronavirus cases are there in my area?",
         "2022-03-04 17:34:34+00:00",
         "https://www.bbc.co.uk/news/uk-51768274",
         "https://www.bbc.co.uk/news/uk-51768274?at_medium=RSS&at_campaign=KARANGA",
         "Explore the data on coronavirus in the UK and find out how many cases there are in your area.",
         "news"
        ],
        [
         "23",
         "Why doesn't Ukraine attack the Russian convoy? And other questions",
         "2022-03-04 18:04:14+00:00",
         "https://www.bbc.co.uk/news/world-60617145",
         "https://www.bbc.co.uk/news/world-60617145?at_medium=RSS&at_campaign=KARANGA",
         "Correspondents and experts answer questions from readers on the BBC News website",
         "news"
        ],
        [
         "24",
         "War in Ukraine: Russians on boycotts, sanctions and cancellations",
         "2022-03-04 18:17:55+00:00",
         "https://www.bbc.co.uk/news/world-europe-60585720",
         "https://www.bbc.co.uk/news/world-europe-60585720?at_medium=RSS&at_campaign=KARANGA",
         "Russia is being hit by a global backlash after it invaded Ukraine. How does it feel to be shunned?",
         "news"
        ],
        [
         "25",
         "Ukraine war: 'My city's being shelled, but mum won’t believe me'",
         "2022-03-04 18:32:49+00:00",
         "https://www.bbc.co.uk/news/world-europe-60600487",
         "https://www.bbc.co.uk/news/world-europe-60600487?at_medium=RSS&at_campaign=KARANGA",
         "These Ukrainians say their Russian relatives only trust the narratives they see on TV at home.",
         "news"
        ],
        [
         "26",
         "Nuclear plant: How close was nuclear plant attack to catastrophe?",
         "2022-03-04 19:32:49+00:00",
         "https://www.bbc.co.uk/news/world-60609633",
         "https://www.bbc.co.uk/news/world-60609633?at_medium=RSS&at_campaign=KARANGA",
         "After Russia seizes two nuclear plant sites, experts weigh the risk to Ukraine and the world at large.",
         "news"
        ],
        [
         "27",
         "Five ways the Ukraine war could push up prices",
         "2022-03-04 22:09:49+00:00",
         "https://www.bbc.co.uk/news/business-60509453",
         "https://www.bbc.co.uk/news/business-60509453?at_medium=RSS&at_campaign=KARANGA",
         "Prices for everyday items could go up at a time when the cost of living is already rising.",
         "news"
        ],
        [
         "28",
         "Russia oligarchs: The mega-rich men facing global sanctions",
         "2022-03-05 00:34:34+00:00",
         "https://www.bbc.co.uk/news/uk-60593022",
         "https://www.bbc.co.uk/news/uk-60593022?at_medium=RSS&at_campaign=KARANGA",
         "President Putin has for years warned Russia's richest to protect themselves against sanctions.",
         "news"
        ],
        [
         "29",
         "European peace seems as fragile as ever",
         "2022-03-05 00:36:11+00:00",
         "https://www.bbc.co.uk/news/world-60622772",
         "https://www.bbc.co.uk/news/world-60622772?at_medium=RSS&at_campaign=KARANGA",
         "The shifting of European history's tectonic plates is not really that unexpected, explains Kevin Connolly.",
         "news"
        ],
        [
         "30",
         "War in Ukraine: Russian helicopter shot down by missile",
         "2022-03-05 12:26:02+00:00",
         "https://www.bbc.co.uk/news/world-europe-60630352",
         "https://www.bbc.co.uk/news/world-europe-60630352?at_medium=RSS&at_campaign=KARANGA",
         "The video, shared by Ukrainian armed forces, shows the helicopter being hit by a missile.",
         "news"
        ],
        [
         "31",
         "From Grozny to Aleppo to Ukraine, Russia meets resistance with more firepower",
         "2022-03-05 16:37:11+00:00",
         "https://www.bbc.co.uk/news/world-europe-60631433",
         "https://www.bbc.co.uk/news/world-europe-60631433?at_medium=RSS&at_campaign=KARANGA",
         "Russia answers resistance with big guns and sieges. Ukrainians pray that will not happen to them, writes the BBC's Jeremy Bowen in Kyiv.",
         "news"
        ],
        [
         "32",
         "Jane Campion: Power of the Dog director thrilled with her Hollywood comeback",
         "2022-03-06 00:13:54+00:00",
         "https://www.bbc.co.uk/news/entertainment-arts-60562041",
         "https://www.bbc.co.uk/news/entertainment-arts-60562041?at_medium=RSS&at_campaign=KARANGA",
         "The award-winning director is championing women in Hollywood after a break away from the big screen.",
         "news"
        ],
        [
         "33",
         "Ukraine: 'We try to tell them the truth' - parenting in wartime",
         "2022-03-06 00:17:05+00:00",
         "https://www.bbc.co.uk/news/world-europe-60632147",
         "https://www.bbc.co.uk/news/world-europe-60632147?at_medium=RSS&at_campaign=KARANGA",
         "In Ukraine, families are having to adapt to being at war. But what do you tell the children?",
         "news"
        ],
        [
         "34",
         "The young Ukrainians battling pro-Russian trolls",
         "2022-03-06 00:19:21+00:00",
         "https://www.bbc.co.uk/news/blogs-trending-60596133",
         "https://www.bbc.co.uk/news/blogs-trending-60596133?at_medium=RSS&at_campaign=KARANGA",
         "Conspiracy theories and trolls are adding to the chaos of war.",
         "news"
        ],
        [
         "35",
         "Zeebrugge: 'You had to cling on for your dear life'",
         "2022-03-06 00:19:31+00:00",
         "https://www.bbc.co.uk/news/60608322",
         "https://www.bbc.co.uk/news/60608322?at_medium=RSS&at_campaign=KARANGA",
         "Lynette Lee survived the Zeebrugge ferry disaster 35 years ago - one that killed 193 people.",
         "news"
        ],
        [
         "36",
         "Mandibuloacral dysplasia: 'You feel guilty not wanting her to get older'",
         "2022-03-06 00:23:18+00:00",
         "https://www.bbc.co.uk/news/uk-england-leicestershire-60587020",
         "https://www.bbc.co.uk/news/uk-england-leicestershire-60587020?at_medium=RSS&at_campaign=KARANGA",
         "The parents of five-year-old Isla say she is the only child in the world with a rare condition.",
         "news"
        ],
        [
         "37",
         "Belfast: The sounds of the city during Covid lockdowns",
         "2022-03-06 00:27:54+00:00",
         "https://www.bbc.co.uk/news/uk-northern-ireland-60601083",
         "https://www.bbc.co.uk/news/uk-northern-ireland-60601083?at_medium=RSS&at_campaign=KARANGA",
         "A student at Queen's University Belfast used his daily walks to record the sounds of Covid lockdowns.",
         "news"
        ],
        [
         "38",
         "Why Indian fathers are embracing paternity leave",
         "2022-03-06 00:37:57+00:00",
         "https://www.bbc.co.uk/news/world-asia-india-60491095",
         "https://www.bbc.co.uk/news/world-asia-india-60491095?at_medium=RSS&at_campaign=KARANGA",
         "The pandemic and changing family structures have highlighted how young parents are struggling with childcare.",
         "news"
        ],
        [
         "39",
         "BBC Ukrainian editor: 'My mother called to say she'd managed to buy bread'",
         "2022-03-06 01:02:02+00:00",
         "https://www.bbc.co.uk/news/world-europe-60633888",
         "https://www.bbc.co.uk/news/world-europe-60633888?at_medium=RSS&at_campaign=KARANGA",
         "In the second week of war, the BBC's Ukrainian editor says empty shelves are an increasing reality.",
         "news"
        ],
        [
         "40",
         "War in Ukraine: Russian invasion fuels Finnish support for Nato",
         "2022-03-06 02:10:21+00:00",
         "https://www.bbc.co.uk/news/world-europe-60626536",
         "https://www.bbc.co.uk/news/world-europe-60626536?at_medium=RSS&at_campaign=KARANGA",
         "President Putin's devastating attack on Ukraine leaves countries in the region worried about their future.",
         "news"
        ],
        [
         "41",
         "Ukraine crisis: The West fights back against Putin the disruptor",
         "2022-03-06 07:25:00+00:00",
         "https://www.bbc.co.uk/news/world-us-canada-60597186",
         "https://www.bbc.co.uk/news/world-us-canada-60597186?at_medium=RSS&at_campaign=KARANGA",
         "Several US presidents have failed to get the measure of him but now Europe has joined the fray things may change.",
         "news"
        ],
        [
         "42",
         "Roman fort survey near Melrose aims to unveil more secrets",
         "2022-03-06 07:45:15+00:00",
         "https://www.bbc.co.uk/news/uk-scotland-south-scotland-60602352",
         "https://www.bbc.co.uk/news/uk-scotland-south-scotland-60602352?at_medium=RSS&at_campaign=KARANGA",
         "Ground penetrating radar will give a clearer picture of the story of Trimontium in the Borders.",
         "news"
        ],
        [
         "43",
         "Identity: What does it mean to be Welsh?",
         "2022-03-06 08:10:02+00:00",
         "https://www.bbc.co.uk/news/uk-wales-60590685",
         "https://www.bbc.co.uk/news/uk-wales-60590685?at_medium=RSS&at_campaign=KARANGA",
         "Two writers on being Welsh when your appearance does not \"match an accepted aesthetic of Welshness\".",
         "news"
        ],
        [
         "44",
         "'They thought he was too young for heart disease'",
         "2022-03-06 09:14:03+00:00",
         "https://www.bbc.co.uk/news/uk-england-cambridgeshire-60610329",
         "https://www.bbc.co.uk/news/uk-england-cambridgeshire-60610329?at_medium=RSS&at_campaign=KARANGA",
         "A mother whose son died from heart disease urges parents to know the signs and trust their instincts.",
         "news"
        ],
        [
         "45",
         "Mariupol: Fires, no water, and bodies in the street",
         "2022-03-06 09:26:59+00:00",
         "https://www.bbc.co.uk/news/world-europe-60637338",
         "https://www.bbc.co.uk/news/world-europe-60637338?at_medium=RSS&at_campaign=KARANGA",
         "Maxim, a 27-year-old city resident, tells the BBC what happened after the first ceasefire collapsed.",
         "news"
        ],
        [
         "46",
         "Ukraine maps: New agreed ceasefire breaks down in south",
         "2022-03-06 14:10:23+00:00",
         "https://www.bbc.co.uk/news/world-europe-60506682",
         "https://www.bbc.co.uk/news/world-europe-60506682?at_medium=RSS&at_campaign=KARANGA",
         "A ceasefire agreement in the southern city of Mariupol, breaks down a second time, with both sides blaming each other.",
         "news"
        ],
        [
         "47",
         "Man in dinghy in near miss with Southampton-bound container ship",
         "2022-03-06 17:11:51+00:00",
         "https://www.bbc.co.uk/news/uk-england-hampshire-60639923",
         "https://www.bbc.co.uk/news/uk-england-hampshire-60639923?at_medium=RSS&at_campaign=KARANGA",
         "The moment a man swims out of the path of a container ship off Southampton is captured on a phone.",
         "news"
        ],
        [
         "48",
         "Ukraine invasion: Military couple marry on the frontline",
         "2022-03-06 19:00:39+00:00",
         "https://www.bbc.co.uk/news/world-europe-60641868",
         "https://www.bbc.co.uk/news/world-europe-60641868?at_medium=RSS&at_campaign=KARANGA",
         "Lesya and Valeri, both civil defence volunteers, tied the knot at a checkpoint near Kyiv.",
         "news"
        ],
        [
         "49",
         "Ukraine conflict: Your guide to understanding day 11",
         "2022-03-06 21:30:47+00:00",
         "https://www.bbc.co.uk/news/world-europe-60640063",
         "https://www.bbc.co.uk/news/world-europe-60640063?at_medium=RSS&at_campaign=KARANGA",
         "More than 1.5 million Ukrainians have fled the country. Here's what you need to know after day 11 of the war.",
         "news"
        ]
       ],
       "shape": {
        "columns": 6,
        "rows": 29376
       }
      },
      "text/html": [
       "<div>\n",
       "<style scoped>\n",
       "    .dataframe tbody tr th:only-of-type {\n",
       "        vertical-align: middle;\n",
       "    }\n",
       "\n",
       "    .dataframe tbody tr th {\n",
       "        vertical-align: top;\n",
       "    }\n",
       "\n",
       "    .dataframe thead th {\n",
       "        text-align: right;\n",
       "    }\n",
       "</style>\n",
       "<table border=\"1\" class=\"dataframe\">\n",
       "  <thead>\n",
       "    <tr style=\"text-align: right;\">\n",
       "      <th></th>\n",
       "      <th>title</th>\n",
       "      <th>pubDate</th>\n",
       "      <th>guid</th>\n",
       "      <th>link</th>\n",
       "      <th>description</th>\n",
       "      <th>category</th>\n",
       "    </tr>\n",
       "  </thead>\n",
       "  <tbody>\n",
       "    <tr>\n",
       "      <th>0</th>\n",
       "      <td>Pisces III submersible: A dramatic underwater ...</td>\n",
       "      <td>2013-08-30 01:01:55+00:00</td>\n",
       "      <td>https://www.bbc.co.uk/news/magazine-23862359</td>\n",
       "      <td>https://www.bbc.co.uk/news/magazine-23862359?a...</td>\n",
       "      <td>Fifty years ago two Britons spent three days t...</td>\n",
       "      <td>news</td>\n",
       "    </tr>\n",
       "    <tr>\n",
       "      <th>1</th>\n",
       "      <td>Prince's original of Nothing Compares 2 U rele...</td>\n",
       "      <td>2018-04-20 11:30:59+00:00</td>\n",
       "      <td>https://www.bbc.co.uk/news/entertainment-arts-...</td>\n",
       "      <td>https://www.bbc.co.uk/news/entertainment-arts-...</td>\n",
       "      <td>The star's original version of the song was re...</td>\n",
       "      <td>news</td>\n",
       "    </tr>\n",
       "    <tr>\n",
       "      <th>2</th>\n",
       "      <td>Grenfell Tower: What happened</td>\n",
       "      <td>2019-10-29 10:27:28+00:00</td>\n",
       "      <td>https://www.bbc.co.uk/news/uk-40301289</td>\n",
       "      <td>https://www.bbc.co.uk/news/uk-40301289?at_medi...</td>\n",
       "      <td>Images, maps and graphics explaining how the d...</td>\n",
       "      <td>news</td>\n",
       "    </tr>\n",
       "    <tr>\n",
       "      <th>3</th>\n",
       "      <td>Trump: I just want to find 11,780 votes</td>\n",
       "      <td>2021-01-03 21:34:33+00:00</td>\n",
       "      <td>https://www.bbc.co.uk/news/world-us-canada-555...</td>\n",
       "      <td>https://www.bbc.co.uk/news/world-us-canada-555...</td>\n",
       "      <td>US President Donald Trump is heard telling Geo...</td>\n",
       "      <td>news</td>\n",
       "    </tr>\n",
       "    <tr>\n",
       "      <th>4</th>\n",
       "      <td>Grenfell Tower inquiry: 9 things we now know a...</td>\n",
       "      <td>2021-03-23 02:24:13+00:00</td>\n",
       "      <td>https://www.bbc.co.uk/news/uk-56403431</td>\n",
       "      <td>https://www.bbc.co.uk/news/uk-56403431?at_medi...</td>\n",
       "      <td>A public inquiry has questioned employees of t...</td>\n",
       "      <td>news</td>\n",
       "    </tr>\n",
       "    <tr>\n",
       "      <th>...</th>\n",
       "      <td>...</td>\n",
       "      <td>...</td>\n",
       "      <td>...</td>\n",
       "      <td>...</td>\n",
       "      <td>...</td>\n",
       "      <td>...</td>\n",
       "    </tr>\n",
       "    <tr>\n",
       "      <th>29371</th>\n",
       "      <td>'Pickling a cucumber changed my life' says Tik...</td>\n",
       "      <td>2024-12-03 22:37:51+00:00</td>\n",
       "      <td>https://www.bbc.com/news/articles/c0lg82zlyp9o#0</td>\n",
       "      <td>https://www.bbc.com/news/articles/c0lg82zlyp9o</td>\n",
       "      <td>A film parody actor, a pool cleaner and pickle...</td>\n",
       "      <td>news</td>\n",
       "    </tr>\n",
       "    <tr>\n",
       "      <th>29372</th>\n",
       "      <td>Scottish Budget presents huge challenges for SNP</td>\n",
       "      <td>2024-12-03 23:00:17+00:00</td>\n",
       "      <td>https://www.bbc.com/news/articles/ckg1m1j2grpo#9</td>\n",
       "      <td>https://www.bbc.com/news/articles/ckg1m1j2grpo</td>\n",
       "      <td>Finance Secretary Shona Robison is preparing t...</td>\n",
       "      <td>news</td>\n",
       "    </tr>\n",
       "    <tr>\n",
       "      <th>29373</th>\n",
       "      <td>Three rail firms to be renationalised next year</td>\n",
       "      <td>2024-12-04 00:02:37+00:00</td>\n",
       "      <td>https://www.bbc.com/news/articles/ceqlnrgjr79o#0</td>\n",
       "      <td>https://www.bbc.com/news/articles/ceqlnrgjr79o</td>\n",
       "      <td>The rail operators will be renationalised in M...</td>\n",
       "      <td>news</td>\n",
       "    </tr>\n",
       "    <tr>\n",
       "      <th>29374</th>\n",
       "      <td>School tells Muslim girls it’s ‘not safe’ for ...</td>\n",
       "      <td>2024-12-04 00:03:58+00:00</td>\n",
       "      <td>https://www.bbc.com/news/articles/cx2wk0k4597o#9</td>\n",
       "      <td>https://www.bbc.com/news/articles/cx2wk0k4597o</td>\n",
       "      <td>Three children have not been back to the Belfa...</td>\n",
       "      <td>news</td>\n",
       "    </tr>\n",
       "    <tr>\n",
       "      <th>29375</th>\n",
       "      <td>Celebrations as Wales make history qualifying ...</td>\n",
       "      <td>2024-12-04 00:05:52+00:00</td>\n",
       "      <td>https://www.bbc.com/news/articles/c791nq8nl73o#9</td>\n",
       "      <td>https://www.bbc.com/news/articles/c791nq8nl73o</td>\n",
       "      <td>Wales defeated the Republic of Ireland 2-1 mak...</td>\n",
       "      <td>news</td>\n",
       "    </tr>\n",
       "  </tbody>\n",
       "</table>\n",
       "<p>29376 rows × 6 columns</p>\n",
       "</div>"
      ],
      "text/plain": [
       "                                                   title  \\\n",
       "0      Pisces III submersible: A dramatic underwater ...   \n",
       "1      Prince's original of Nothing Compares 2 U rele...   \n",
       "2                          Grenfell Tower: What happened   \n",
       "3                Trump: I just want to find 11,780 votes   \n",
       "4      Grenfell Tower inquiry: 9 things we now know a...   \n",
       "...                                                  ...   \n",
       "29371  'Pickling a cucumber changed my life' says Tik...   \n",
       "29372   Scottish Budget presents huge challenges for SNP   \n",
       "29373    Three rail firms to be renationalised next year   \n",
       "29374  School tells Muslim girls it’s ‘not safe’ for ...   \n",
       "29375  Celebrations as Wales make history qualifying ...   \n",
       "\n",
       "                        pubDate  \\\n",
       "0     2013-08-30 01:01:55+00:00   \n",
       "1     2018-04-20 11:30:59+00:00   \n",
       "2     2019-10-29 10:27:28+00:00   \n",
       "3     2021-01-03 21:34:33+00:00   \n",
       "4     2021-03-23 02:24:13+00:00   \n",
       "...                         ...   \n",
       "29371 2024-12-03 22:37:51+00:00   \n",
       "29372 2024-12-03 23:00:17+00:00   \n",
       "29373 2024-12-04 00:02:37+00:00   \n",
       "29374 2024-12-04 00:03:58+00:00   \n",
       "29375 2024-12-04 00:05:52+00:00   \n",
       "\n",
       "                                                    guid  \\\n",
       "0           https://www.bbc.co.uk/news/magazine-23862359   \n",
       "1      https://www.bbc.co.uk/news/entertainment-arts-...   \n",
       "2                 https://www.bbc.co.uk/news/uk-40301289   \n",
       "3      https://www.bbc.co.uk/news/world-us-canada-555...   \n",
       "4                 https://www.bbc.co.uk/news/uk-56403431   \n",
       "...                                                  ...   \n",
       "29371   https://www.bbc.com/news/articles/c0lg82zlyp9o#0   \n",
       "29372   https://www.bbc.com/news/articles/ckg1m1j2grpo#9   \n",
       "29373   https://www.bbc.com/news/articles/ceqlnrgjr79o#0   \n",
       "29374   https://www.bbc.com/news/articles/cx2wk0k4597o#9   \n",
       "29375   https://www.bbc.com/news/articles/c791nq8nl73o#9   \n",
       "\n",
       "                                                    link  \\\n",
       "0      https://www.bbc.co.uk/news/magazine-23862359?a...   \n",
       "1      https://www.bbc.co.uk/news/entertainment-arts-...   \n",
       "2      https://www.bbc.co.uk/news/uk-40301289?at_medi...   \n",
       "3      https://www.bbc.co.uk/news/world-us-canada-555...   \n",
       "4      https://www.bbc.co.uk/news/uk-56403431?at_medi...   \n",
       "...                                                  ...   \n",
       "29371     https://www.bbc.com/news/articles/c0lg82zlyp9o   \n",
       "29372     https://www.bbc.com/news/articles/ckg1m1j2grpo   \n",
       "29373     https://www.bbc.com/news/articles/ceqlnrgjr79o   \n",
       "29374     https://www.bbc.com/news/articles/cx2wk0k4597o   \n",
       "29375     https://www.bbc.com/news/articles/c791nq8nl73o   \n",
       "\n",
       "                                             description category  \n",
       "0      Fifty years ago two Britons spent three days t...     news  \n",
       "1      The star's original version of the song was re...     news  \n",
       "2      Images, maps and graphics explaining how the d...     news  \n",
       "3      US President Donald Trump is heard telling Geo...     news  \n",
       "4      A public inquiry has questioned employees of t...     news  \n",
       "...                                                  ...      ...  \n",
       "29371  A film parody actor, a pool cleaner and pickle...     news  \n",
       "29372  Finance Secretary Shona Robison is preparing t...     news  \n",
       "29373  The rail operators will be renationalised in M...     news  \n",
       "29374  Three children have not been back to the Belfa...     news  \n",
       "29375  Wales defeated the Republic of Ireland 2-1 mak...     news  \n",
       "\n",
       "[29376 rows x 6 columns]"
      ]
     },
     "metadata": {},
     "output_type": "display_data"
    }
   ],
   "source": [
    "from src.utils.plot_df import display_duplicate_rows_by_column\n",
    "\n",
    "# Filter the dataset to keep only the 'news' category\n",
    "bbc_news_df = bbc_news_df[bbc_news_df['category'] == 'news'].reset_index(drop=True)\n",
    "\n",
    "# Identify duplicate rows based on a single column \n",
    "display_duplicate_rows_by_column(bbc_news_df, 'title')\n",
    "\n",
    "# Remove some garbage rows\n",
    "garbage_titles = [\n",
    "    'BBC News app',\n",
    "    'Download now'\n",
    "]\n",
    "\n",
    "# Sort the dataframe by 'pubDate' in descending order\n",
    "bbc_news_df = bbc_news_df.sort_values(by='pubDate', ascending=True).reset_index(drop=True)\n",
    "display(bbc_news_df)\n",
    "\n",
    "# Filter out the garbage and duplicates titles\n",
    "bbc_news_df = bbc_news_df[~bbc_news_df['title'].isin(garbage_titles)].reset_index(drop=True)\n",
    "bbc_news_df = bbc_news_df.drop_duplicates(subset=['title'], keep='first').reset_index(drop=True)\n",
    "\n",
    "# Check for duplicates in the 'description' and 'link' columns\n",
    "# Their duplication is likely due to updated titles or descriptions. Using link to identify duplicates\n",
    "display_duplicate_rows_by_column(bbc_news_df, 'link')\n",
    "bbc_news_df = bbc_news_df.drop_duplicates(subset=['link'], keep='first').reset_index(drop=True)\n",
    "\n",
    "display(bbc_news_df)\n"
   ]
  },
  {
   "cell_type": "markdown",
   "id": "d84ee97c",
   "metadata": {},
   "source": [
    "# Insert Sentiment Score"
   ]
  },
  {
   "cell_type": "code",
   "execution_count": null,
   "id": "eea6636f",
   "metadata": {},
   "outputs": [
    {
     "name": "stderr",
     "output_type": "stream",
     "text": [
      "Processing Sentiment Scores:  43%|████▎     | 18242/42095 [17:34<12:54, 30.81text/s]    "
     ]
    }
   ],
   "source": [
    "from src.utils.sentiment import add_sentiment_scores\n",
    "\n",
    "# Add sentiment scores to the filtered DataFrame\n",
    "filtered_df = add_sentiment_scores(filtered_df, 'description')\n",
    "\n",
    "# Check the first few rows of the DataFrame with sentiment scores\n",
    "display(filtered_df.head())\n",
    "\n",
    "# Save the filtered DataFrame with sentiment scores to a CSV file\n",
    "filtered_df.to_csv(save_path, index=False)"
   ]
  },
  {
   "cell_type": "markdown",
   "id": "ef107006",
   "metadata": {},
   "source": [
    "## Expore the distribution of sentiment score"
   ]
  },
  {
   "cell_type": "code",
   "execution_count": null,
   "id": "147412ff",
   "metadata": {},
   "outputs": [
    {
     "data": {
      "image/png": "[encoded data removed]",
      "text/plain": [
       "<Figure size 1000x600 with 1 Axes>"
      ]
     },
     "metadata": {},
     "output_type": "display_data"
    },
    {
     "data": {
      "image/png": "[encoded data removed]",
      "text/plain": [
       "<Figure size 1000x600 with 1 Axes>"
      ]
     },
     "metadata": {},
     "output_type": "display_data"
    },
    {
     "data": {
      "image/png": "[encoded data removed]",
      "text/plain": [
       "<Figure size 1000x600 with 1 Axes>"
      ]
     },
     "metadata": {},
     "output_type": "display_data"
    }
   ],
   "source": [
    "from src.utils.plot_df import plot_sentiment_score_distribution\n",
    "\n",
    "plot_sentiment_score_distribution(filtered_df, 'positive_score')\n",
    "plot_sentiment_score_distribution(filtered_df, 'neutral_score')\n",
    "plot_sentiment_score_distribution(filtered_df, 'negative_score')"
   ]
  },
  {
   "cell_type": "markdown",
   "id": "ffc95ab4",
   "metadata": {},
   "source": [
    "# Classify the news into categories based on the description\n",
    "| Category         | Example Input                             |\n",
    "|------------------|------------------------------------------|\n",
    "| Market-wide      | “Fed announces rate hike”                |\n",
    "| Sector-specific  | “Semiconductor shortages worsen”         |\n",
    "| Stock-specific   | “AAPL Q3 earnings beat expectations”     |\n",
    "| Irrelevant       | “U.K. royal family attends charity gala” |"
   ]
  },
  {
   "cell_type": "markdown",
   "id": "6dbd0cf8",
   "metadata": {},
   "source": []
  }
 ],
 "metadata": {
  "kernelspec": {
   "display_name": "Python 3",
   "language": "python",
   "name": "python3"
  },
  "language_info": {
   "codemirror_mode": {
    "name": "ipython",
    "version": 3
   },
   "file_extension": ".py",
   "mimetype": "text/x-python",
   "name": "python",
   "nbconvert_exporter": "python",
   "pygments_lexer": "ipython3",
   "version": "3.11.6"
  }
 },
 "nbformat": 4,
 "nbformat_minor": 5
}
